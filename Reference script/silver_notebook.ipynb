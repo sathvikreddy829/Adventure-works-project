{
 "cells": [
  {
   "cell_type": "markdown",
   "metadata": {
    "application/vnd.databricks.v1+cell": {
     "cellMetadata": {},
     "inputWidgets": {},
     "nuid": "a0c6ee20-48f8-4189-956a-c4214bfea979",
     "showTitle": false,
     "tableResultSettingsMap": {},
     "title": ""
    }
   },
   "source": [
    "# Silver layer"
   ]
  },
  {
   "cell_type": "code",
   "execution_count": 0,
   "metadata": {
    "application/vnd.databricks.v1+cell": {
     "cellMetadata": {
      "byteLimit": 2048000,
      "rowLimit": 10000
     },
     "inputWidgets": {},
     "nuid": "8fb588ff-9aa7-4d01-b40c-7c0a4c3f6698",
     "showTitle": false,
     "tableResultSettingsMap": {},
     "title": ""
    }
   },
   "outputs": [],
   "source": [
    "from pyspark.sql.functions import *\n",
    "from pyspark.sql.types import *\n",
    "\n",
    "from pyspark.sql.functions import col, month, year\n",
    "\n",
    "from pyspark.sql.functions import concat, col, lit"
   ]
  },
  {
   "cell_type": "markdown",
   "metadata": {
    "application/vnd.databricks.v1+cell": {
     "cellMetadata": {},
     "inputWidgets": {},
     "nuid": "0e7f77eb-9a2e-409a-84b1-6ac077b22e71",
     "showTitle": false,
     "tableResultSettingsMap": {},
     "title": ""
    }
   },
   "source": [
    "### Data accessing"
   ]
  },
  {
   "cell_type": "markdown",
   "metadata": {
    "application/vnd.databricks.v1+cell": {
     "cellMetadata": {},
     "inputWidgets": {},
     "nuid": "c2e81267-fd5c-4ac6-b1c8-1a6e9d933233",
     "showTitle": false,
     "tableResultSettingsMap": {},
     "title": ""
    }
   },
   "source": [
    "#### use your credentials here"
   ]
  },
  {
   "cell_type": "markdown",
   "metadata": {
    "application/vnd.databricks.v1+cell": {
     "cellMetadata": {},
     "inputWidgets": {},
     "nuid": "75e253d2-8c7d-4067-bf99-4d56bccfb40a",
     "showTitle": false,
     "tableResultSettingsMap": {},
     "title": ""
    }
   },
   "source": [
    "### Data loading"
   ]
  },
  {
   "cell_type": "code",
   "execution_count": 0,
   "metadata": {
    "application/vnd.databricks.v1+cell": {
     "cellMetadata": {
      "byteLimit": 2048000,
      "rowLimit": 10000
     },
     "inputWidgets": {},
     "nuid": "799e46ea-8af4-4410-bb63-3a28449b644d",
     "showTitle": false,
     "tableResultSettingsMap": {},
     "title": ""
    }
   },
   "outputs": [],
   "source": [
    "df_cal = spark.read.format('csv').option('inferschema',True).option('header',True).load('abfss://bronze@awstoragedatalake123456.dfs.core.windows.net/AdventureWorks_Calendar')"
   ]
  },
  {
   "cell_type": "code",
   "execution_count": 0,
   "metadata": {
    "application/vnd.databricks.v1+cell": {
     "cellMetadata": {
      "byteLimit": 2048000,
      "rowLimit": 10000
     },
     "inputWidgets": {},
     "nuid": "f05b17a3-787a-4273-b955-772773ff86ab",
     "showTitle": false,
     "tableResultSettingsMap": {},
     "title": ""
    }
   },
   "outputs": [],
   "source": [
    "df_cus = spark.read.format('csv').option('inferschema',True).option('header',True).load('abfss://bronze@awstoragedatalake123456.dfs.core.windows.net/AdventureWorks_Customers')"
   ]
  },
  {
   "cell_type": "code",
   "execution_count": 0,
   "metadata": {
    "application/vnd.databricks.v1+cell": {
     "cellMetadata": {
      "byteLimit": 2048000,
      "rowLimit": 10000
     },
     "inputWidgets": {},
     "nuid": "d41e586b-2d3b-434d-ae5a-ce5339ee67da",
     "showTitle": false,
     "tableResultSettingsMap": {},
     "title": ""
    }
   },
   "outputs": [],
   "source": [
    "df_procat = spark.read.format('csv').option('inferschema',True).option('header',True).load('abfss://bronze@awstoragedatalake123456.dfs.core.windows.net/AdventureWorks_Product_Categories')"
   ]
  },
  {
   "cell_type": "code",
   "execution_count": 0,
   "metadata": {
    "application/vnd.databricks.v1+cell": {
     "cellMetadata": {
      "byteLimit": 2048000,
      "rowLimit": 10000
     },
     "inputWidgets": {},
     "nuid": "0e31d030-d0f7-4956-a1b8-a01fdaa93c6f",
     "showTitle": false,
     "tableResultSettingsMap": {},
     "title": ""
    }
   },
   "outputs": [],
   "source": [
    "df_pro = spark.read.format('csv').option('inferschema',True).option('header',True).load('abfss://bronze@awstoragedatalake123456.dfs.core.windows.net/AdventureWorks_Products')"
   ]
  },
  {
   "cell_type": "code",
   "execution_count": 0,
   "metadata": {
    "application/vnd.databricks.v1+cell": {
     "cellMetadata": {
      "byteLimit": 2048000,
      "rowLimit": 10000
     },
     "inputWidgets": {},
     "nuid": "4c03ced5-7b0f-4b65-9d67-41528cc2c2ce",
     "showTitle": false,
     "tableResultSettingsMap": {},
     "title": ""
    }
   },
   "outputs": [],
   "source": [
    " df_ret = spark.read.format('csv').option('inferschema',True).option('header',True).load('abfss://bronze@awstoragedatalake123456.dfs.core.windows.net/AdventureWorks_Returns')"
   ]
  },
  {
   "cell_type": "code",
   "execution_count": 0,
   "metadata": {
    "application/vnd.databricks.v1+cell": {
     "cellMetadata": {
      "byteLimit": 2048000,
      "rowLimit": 10000
     },
     "inputWidgets": {},
     "nuid": "7e425090-f133-4eed-bf66-d56f42c21405",
     "showTitle": false,
     "tableResultSettingsMap": {},
     "title": ""
    }
   },
   "outputs": [],
   "source": [
    " df_Sales = spark.read.format('csv').option('inferschema',True).option('header',True).load('abfss://bronze@awstoragedatalake123456.dfs.core.windows.net/AdventureWorks_Sales*')"
   ]
  },
  {
   "cell_type": "code",
   "execution_count": 0,
   "metadata": {
    "application/vnd.databricks.v1+cell": {
     "cellMetadata": {
      "byteLimit": 2048000,
      "rowLimit": 10000
     },
     "inputWidgets": {},
     "nuid": "3bb2d33a-ca67-46a1-a015-d513952d1fd4",
     "showTitle": false,
     "tableResultSettingsMap": {},
     "title": ""
    }
   },
   "outputs": [],
   "source": [
    "df_ter = spark.read.format('csv').option('inferschema',True).option('header',True).load('abfss://bronze@awstoragedatalake123456.dfs.core.windows.net/AdventureWorks_Territories')"
   ]
  },
  {
   "cell_type": "code",
   "execution_count": 0,
   "metadata": {
    "application/vnd.databricks.v1+cell": {
     "cellMetadata": {
      "byteLimit": 2048000,
      "rowLimit": 10000
     },
     "inputWidgets": {},
     "nuid": "82b020b0-536d-4d6e-bbcf-bdf29fd68b55",
     "showTitle": false,
     "tableResultSettingsMap": {},
     "title": ""
    }
   },
   "outputs": [],
   "source": [
    "df_subcat = spark.read.format('csv').option('inferschema',True).option('header',True).load('abfss://bronze@awstoragedatalake123456.dfs.core.windows.net/Product_Subcategories')"
   ]
  },
  {
   "cell_type": "markdown",
   "metadata": {
    "application/vnd.databricks.v1+cell": {
     "cellMetadata": {},
     "inputWidgets": {},
     "nuid": "caa481ef-b4be-47cd-a33c-7fdf8e37aa1f",
     "showTitle": false,
     "tableResultSettingsMap": {},
     "title": ""
    }
   },
   "source": [
    "## Transformations"
   ]
  },
  {
   "cell_type": "markdown",
   "metadata": {
    "application/vnd.databricks.v1+cell": {
     "cellMetadata": {},
     "inputWidgets": {},
     "nuid": "dfa1e38f-418a-47ea-956d-aa3b2dfb3a10",
     "showTitle": false,
     "tableResultSettingsMap": {},
     "title": ""
    }
   },
   "source": [
    "##### transformations on calender file"
   ]
  },
  {
   "cell_type": "code",
   "execution_count": 0,
   "metadata": {
    "application/vnd.databricks.v1+cell": {
     "cellMetadata": {
      "byteLimit": 2048000,
      "rowLimit": 10000
     },
     "inputWidgets": {},
     "nuid": "32b8eec8-56b5-481b-814a-fc2b44e0e6ff",
     "showTitle": false,
     "tableResultSettingsMap": {},
     "title": ""
    }
   },
   "outputs": [],
   "source": [
    "df_cal = df_cal.withColumn('Month', month(col('Date')))"
   ]
  },
  {
   "cell_type": "code",
   "execution_count": 0,
   "metadata": {
    "application/vnd.databricks.v1+cell": {
     "cellMetadata": {
      "byteLimit": 2048000,
      "rowLimit": 10000
     },
     "inputWidgets": {},
     "nuid": "c1767f11-7843-4c13-8fc3-2f57d53342fb",
     "showTitle": false,
     "tableResultSettingsMap": {},
     "title": ""
    }
   },
   "outputs": [],
   "source": [
    "df_cal = df_cal.withColumn('Year',year(col('Date')))\n"
   ]
  },
  {
   "cell_type": "code",
   "execution_count": 0,
   "metadata": {
    "application/vnd.databricks.v1+cell": {
     "cellMetadata": {
      "byteLimit": 2048000,
      "rowLimit": 10000
     },
     "inputWidgets": {},
     "nuid": "a87c4da4-9624-404e-b710-52dc242baf40",
     "showTitle": false,
     "tableResultSettingsMap": {},
     "title": ""
    }
   },
   "outputs": [],
   "source": [
    "df_cal.write.format('parquet')\\\n",
    "            .mode('append')\\\n",
    "            .option(\"path\",\"abfss://silver@awstoragedatalake123456.dfs.core.windows.net/AdventureWorks_Calendar\")\\\n",
    "            .save()"
   ]
  },
  {
   "cell_type": "markdown",
   "metadata": {
    "application/vnd.databricks.v1+cell": {
     "cellMetadata": {},
     "inputWidgets": {},
     "nuid": "c7036a4a-e71a-4bb1-b547-661621e4d926",
     "showTitle": false,
     "tableResultSettingsMap": {},
     "title": ""
    }
   },
   "source": [
    "##### transformation on customers table"
   ]
  },
  {
   "cell_type": "code",
   "execution_count": 0,
   "metadata": {
    "application/vnd.databricks.v1+cell": {
     "cellMetadata": {
      "byteLimit": 2048000,
      "rowLimit": 10000
     },
     "inputWidgets": {},
     "nuid": "46aa3a78-d8fc-4546-a2cd-595e71c9fc30",
     "showTitle": false,
     "tableResultSettingsMap": {},
     "title": ""
    }
   },
   "outputs": [],
   "source": [
    "df_cus = df_cus.withColumn(\"FullName\",concat_ws(' ',col('Prefix'),col('FirstName'),col('LastName')))"
   ]
  },
  {
   "cell_type": "code",
   "execution_count": 0,
   "metadata": {
    "application/vnd.databricks.v1+cell": {
     "cellMetadata": {
      "byteLimit": 2048000,
      "rowLimit": 10000
     },
     "inputWidgets": {},
     "nuid": "301a0c56-ec21-4228-b7c6-56ca2a3ae719",
     "showTitle": false,
     "tableResultSettingsMap": {},
     "title": ""
    }
   },
   "outputs": [],
   "source": [
    "df_cus.write.format('parquet')\\\n",
    "                  .mode('append')\\\n",
    "                  .option('path',\"abfss://silver@awstoragedatalake123456.dfs.core.windows.net/AdventureWorks_Customers\")\\\n",
    "                  .save()"
   ]
  },
  {
   "cell_type": "markdown",
   "metadata": {
    "application/vnd.databricks.v1+cell": {
     "cellMetadata": {},
     "inputWidgets": {},
     "nuid": "304153e4-8179-4fec-a12d-ae85b9235314",
     "showTitle": false,
     "tableResultSettingsMap": {},
     "title": ""
    }
   },
   "source": [
    "##### Product categories"
   ]
  },
  {
   "cell_type": "code",
   "execution_count": 0,
   "metadata": {
    "application/vnd.databricks.v1+cell": {
     "cellMetadata": {
      "byteLimit": 2048000,
      "rowLimit": 10000
     },
     "inputWidgets": {},
     "nuid": "4b7d23a6-971b-467c-bd13-3a514203eef8",
     "showTitle": false,
     "tableResultSettingsMap": {},
     "title": ""
    }
   },
   "outputs": [],
   "source": [
    "df_procat.write.format('parquet')\\\n",
    "        .mode('append')\\\n",
    "        .option('path',\"abfss://silver@awstoragedatalake123456.dfs.core.windows.net/AdventureWorks_Product_Categories\")\\\n",
    "        .save()"
   ]
  },
  {
   "cell_type": "markdown",
   "metadata": {
    "application/vnd.databricks.v1+cell": {
     "cellMetadata": {},
     "inputWidgets": {},
     "nuid": "0ffa7fd3-fdf3-4ae5-b500-d299c632b14b",
     "showTitle": false,
     "tableResultSettingsMap": {},
     "title": ""
    }
   },
   "source": [
    "##### products"
   ]
  },
  {
   "cell_type": "code",
   "execution_count": 0,
   "metadata": {
    "application/vnd.databricks.v1+cell": {
     "cellMetadata": {
      "byteLimit": 2048000,
      "rowLimit": 10000
     },
     "inputWidgets": {},
     "nuid": "8edd8f5a-bb2d-441e-a883-b86f578213e5",
     "showTitle": false,
     "tableResultSettingsMap": {},
     "title": ""
    }
   },
   "outputs": [],
   "source": [
    "df_pro = df_pro.withColumn('ProductSKU',split(col('ProductSKU'), '-')[0])\\\n",
    "       .withColumn('ProductName',split(col('ProductName'), ' ')[0])"
   ]
  },
  {
   "cell_type": "code",
   "execution_count": 0,
   "metadata": {
    "application/vnd.databricks.v1+cell": {
     "cellMetadata": {
      "byteLimit": 2048000,
      "rowLimit": 10000
     },
     "inputWidgets": {},
     "nuid": "786bb696-63d5-416c-a484-c4e8ac7c9673",
     "showTitle": false,
     "tableResultSettingsMap": {},
     "title": ""
    }
   },
   "outputs": [],
   "source": [
    "df_pro.write.format('parquet')\\\n",
    "        .mode('append')\\\n",
    "        .option('path',\"abfss://silver@awstoragedatalake123456.dfs.core.windows.net/AdventureWorks_Products\")\\\n",
    "        .save()"
   ]
  },
  {
   "cell_type": "markdown",
   "metadata": {
    "application/vnd.databricks.v1+cell": {
     "cellMetadata": {},
     "inputWidgets": {},
     "nuid": "44482633-2e5d-4811-b221-fa73486ee99b",
     "showTitle": false,
     "tableResultSettingsMap": {},
     "title": ""
    }
   },
   "source": [
    "##### returns"
   ]
  },
  {
   "cell_type": "code",
   "execution_count": 0,
   "metadata": {
    "application/vnd.databricks.v1+cell": {
     "cellMetadata": {
      "byteLimit": 2048000,
      "rowLimit": 10000
     },
     "inputWidgets": {},
     "nuid": "f10281d3-3755-4d84-b524-5ab1582aa6f3",
     "showTitle": false,
     "tableResultSettingsMap": {},
     "title": ""
    }
   },
   "outputs": [],
   "source": [
    "df_ret.write.format('parquet')\\\n",
    "        .mode('append')\\\n",
    "        .option('path',\"abfss://silver@awstoragedatalake123456.dfs.core.windows.net/AdventureWorks_Returns\")\\\n",
    "        .save()"
   ]
  },
  {
   "cell_type": "markdown",
   "metadata": {
    "application/vnd.databricks.v1+cell": {
     "cellMetadata": {},
     "inputWidgets": {},
     "nuid": "cb58ce54-c1cd-42b3-89f1-226095d1e37c",
     "showTitle": false,
     "tableResultSettingsMap": {},
     "title": ""
    }
   },
   "source": [
    "#####Territories"
   ]
  },
  {
   "cell_type": "code",
   "execution_count": 0,
   "metadata": {
    "application/vnd.databricks.v1+cell": {
     "cellMetadata": {
      "byteLimit": 2048000,
      "rowLimit": 10000
     },
     "inputWidgets": {},
     "nuid": "b22f2675-9c31-46f5-82ec-a1c1b525b269",
     "showTitle": false,
     "tableResultSettingsMap": {},
     "title": ""
    }
   },
   "outputs": [],
   "source": [
    "df_ter.write.format('parquet')\\\n",
    "        .mode('append')\\\n",
    "        .option('path',\"abfss://silver@awstoragedatalake123456.dfs.core.windows.net/AdventureWorks_Territories\")\\\n",
    "        .save()"
   ]
  },
  {
   "cell_type": "markdown",
   "metadata": {
    "application/vnd.databricks.v1+cell": {
     "cellMetadata": {},
     "inputWidgets": {},
     "nuid": "ce3646c4-abe3-49cc-9a39-2ac0e79f7ff1",
     "showTitle": false,
     "tableResultSettingsMap": {},
     "title": ""
    }
   },
   "source": [
    "#### sales data"
   ]
  },
  {
   "cell_type": "code",
   "execution_count": 0,
   "metadata": {
    "application/vnd.databricks.v1+cell": {
     "cellMetadata": {
      "byteLimit": 2048000,
      "rowLimit": 10000
     },
     "inputWidgets": {},
     "nuid": "aad5fd8c-09f0-4c0e-adf4-892570a95221",
     "showTitle": false,
     "tableResultSettingsMap": {},
     "title": ""
    }
   },
   "outputs": [],
   "source": [
    "df_Sales = df_Sales.withColumn('StockDate',to_timestamp(col('StockDate')))"
   ]
  },
  {
   "cell_type": "code",
   "execution_count": 0,
   "metadata": {
    "application/vnd.databricks.v1+cell": {
     "cellMetadata": {
      "byteLimit": 2048000,
      "rowLimit": 10000
     },
     "inputWidgets": {},
     "nuid": "64e3b2f8-7a12-41eb-a5ae-6dd5ed84b67e",
     "showTitle": false,
     "tableResultSettingsMap": {},
     "title": ""
    }
   },
   "outputs": [],
   "source": [
    "df_Sales = df_Sales.withColumn('OrderNumber',regexp_replace(col('OrderNumber'),'S','T'))"
   ]
  },
  {
   "cell_type": "code",
   "execution_count": 0,
   "metadata": {
    "application/vnd.databricks.v1+cell": {
     "cellMetadata": {
      "byteLimit": 2048000,
      "rowLimit": 10000
     },
     "inputWidgets": {},
     "nuid": "3cbb5ef1-d15e-45f1-8fde-f44494cc8b6d",
     "showTitle": false,
     "tableResultSettingsMap": {},
     "title": ""
    }
   },
   "outputs": [],
   "source": [
    "df_Sales = df_Sales.withColumn('Multiply',col('OrderLineItem')*col('OrderQuantity'))"
   ]
  },
  {
   "cell_type": "markdown",
   "metadata": {
    "application/vnd.databricks.v1+cell": {
     "cellMetadata": {},
     "inputWidgets": {},
     "nuid": "fcf6808d-2842-48f8-a885-65745e8f7fbb",
     "showTitle": false,
     "tableResultSettingsMap": {},
     "title": ""
    }
   },
   "source": [
    "## Sales Analysis"
   ]
  },
  {
   "cell_type": "code",
   "execution_count": 0,
   "metadata": {
    "application/vnd.databricks.v1+cell": {
     "cellMetadata": {
      "byteLimit": 2048000,
      "rowLimit": 10000
     },
     "inputWidgets": {},
     "nuid": "d38f9abd-3030-4d42-9702-46ca56e8e114",
     "showTitle": false,
     "tableResultSettingsMap": {},
     "title": ""
    }
   },
   "outputs": [],
   "source": [
    "df_Sales = df_Sales.groupBy('OrderDate').agg(count('OrderNumber').alias('total_order'))"
   ]
  },
  {
   "cell_type": "code",
   "execution_count": 0,
   "metadata": {
    "application/vnd.databricks.v1+cell": {
     "cellMetadata": {
      "byteLimit": 2048000,
      "rowLimit": 10000
     },
     "inputWidgets": {},
     "nuid": "6d4ef1ce-3f96-4701-94f8-6fc1b0c349ce",
     "showTitle": false,
     "tableResultSettingsMap": {},
     "title": ""
    }
   },
   "outputs": [
    {
     "output_type": "display_data",
     "data": {
      "text/html": [
       "<style scoped>\n",
       "  .table-result-container {\n",
       "    max-height: 300px;\n",
       "    overflow: auto;\n",
       "  }\n",
       "  table, th, td {\n",
       "    border: 1px solid black;\n",
       "    border-collapse: collapse;\n",
       "  }\n",
       "  th, td {\n",
       "    padding: 5px;\n",
       "  }\n",
       "  th {\n",
       "    text-align: left;\n",
       "  }\n",
       "</style><div class='table-result-container'><table class='table-result'><thead style='background-color: white'><tr><th>OrderDate</th><th>total_order</th></tr></thead><tbody><tr><td>2017-01-06</td><td>151</td></tr><tr><td>2017-01-27</td><td>142</td></tr><tr><td>2017-02-26</td><td>119</td></tr><tr><td>2017-01-24</td><td>173</td></tr><tr><td>2017-06-29</td><td>172</td></tr><tr><td>2017-02-16</td><td>124</td></tr><tr><td>2017-04-09</td><td>140</td></tr><tr><td>2017-02-28</td><td>162</td></tr><tr><td>2017-03-28</td><td>149</td></tr><tr><td>2017-06-30</td><td>136</td></tr><tr><td>2017-01-30</td><td>145</td></tr><tr><td>2017-05-11</td><td>164</td></tr><tr><td>2017-02-10</td><td>168</td></tr><tr><td>2017-04-25</td><td>176</td></tr><tr><td>2017-03-19</td><td>152</td></tr><tr><td>2017-05-26</td><td>175</td></tr><tr><td>2017-01-04</td><td>138</td></tr><tr><td>2017-06-28</td><td>215</td></tr><tr><td>2017-04-03</td><td>246</td></tr><tr><td>2017-06-14</td><td>258</td></tr><tr><td>2017-04-29</td><td>163</td></tr><tr><td>2017-02-07</td><td>161</td></tr><tr><td>2017-01-10</td><td>192</td></tr><tr><td>2017-03-17</td><td>138</td></tr><tr><td>2017-05-10</td><td>150</td></tr><tr><td>2017-01-21</td><td>131</td></tr><tr><td>2017-05-09</td><td>191</td></tr><tr><td>2017-04-07</td><td>160</td></tr><tr><td>2017-06-08</td><td>171</td></tr><tr><td>2017-01-05</td><td>141</td></tr><tr><td>2017-06-01</td><td>122</td></tr><tr><td>2017-04-02</td><td>168</td></tr><tr><td>2017-06-09</td><td>182</td></tr><tr><td>2017-04-11</td><td>137</td></tr><tr><td>2017-04-12</td><td>156</td></tr><tr><td>2017-01-13</td><td>123</td></tr><tr><td>2017-02-08</td><td>164</td></tr><tr><td>2017-03-13</td><td>191</td></tr><tr><td>2017-04-05</td><td>122</td></tr><tr><td>2017-04-20</td><td>165</td></tr><tr><td>2017-06-15</td><td>195</td></tr><tr><td>2017-02-25</td><td>103</td></tr><tr><td>2017-05-21</td><td>185</td></tr><tr><td>2017-03-16</td><td>107</td></tr><tr><td>2017-04-27</td><td>176</td></tr><tr><td>2017-05-27</td><td>148</td></tr><tr><td>2017-02-01</td><td>179</td></tr><tr><td>2017-01-26</td><td>156</td></tr><tr><td>2017-01-01</td><td>98</td></tr><tr><td>2017-06-19</td><td>194</td></tr><tr><td>2017-04-18</td><td>186</td></tr><tr><td>2017-01-20</td><td>195</td></tr><tr><td>2017-06-13</td><td>151</td></tr><tr><td>2017-06-25</td><td>189</td></tr><tr><td>2017-03-05</td><td>146</td></tr><tr><td>2017-03-21</td><td>177</td></tr><tr><td>2017-06-07</td><td>222</td></tr><tr><td>2017-06-02</td><td>137</td></tr><tr><td>2017-03-24</td><td>158</td></tr><tr><td>2017-04-30</td><td>169</td></tr><tr><td>2017-01-11</td><td>162</td></tr><tr><td>2017-02-12</td><td>163</td></tr><tr><td>2017-01-17</td><td>123</td></tr><tr><td>2017-02-24</td><td>152</td></tr><tr><td>2017-06-18</td><td>163</td></tr><tr><td>2017-05-28</td><td>170</td></tr><tr><td>2017-05-05</td><td>204</td></tr><tr><td>2017-05-19</td><td>171</td></tr><tr><td>2017-03-20</td><td>163</td></tr><tr><td>2017-04-15</td><td>181</td></tr><tr><td>2017-06-06</td><td>216</td></tr><tr><td>2017-01-19</td><td>131</td></tr><tr><td>2017-01-25</td><td>121</td></tr><tr><td>2017-04-26</td><td>153</td></tr><tr><td>2017-02-23</td><td>137</td></tr><tr><td>2017-03-30</td><td>157</td></tr><tr><td>2017-02-06</td><td>156</td></tr><tr><td>2017-03-29</td><td>136</td></tr><tr><td>2017-01-23</td><td>113</td></tr><tr><td>2017-01-08</td><td>168</td></tr><tr><td>2017-04-08</td><td>173</td></tr><tr><td>2017-06-17</td><td>215</td></tr><tr><td>2017-03-11</td><td>158</td></tr><tr><td>2017-03-06</td><td>137</td></tr><tr><td>2017-04-23</td><td>178</td></tr><tr><td>2017-02-22</td><td>125</td></tr><tr><td>2017-03-26</td><td>131</td></tr><tr><td>2017-05-07</td><td>188</td></tr><tr><td>2017-01-07</td><td>152</td></tr><tr><td>2017-02-05</td><td>172</td></tr><tr><td>2017-01-12</td><td>121</td></tr><tr><td>2017-03-18</td><td>142</td></tr><tr><td>2017-02-17</td><td>194</td></tr><tr><td>2017-01-31</td><td>148</td></tr><tr><td>2017-02-03</td><td>189</td></tr><tr><td>2017-05-22</td><td>152</td></tr><tr><td>2017-06-22</td><td>191</td></tr><tr><td>2017-06-03</td><td>177</td></tr><tr><td>2017-01-16</td><td>171</td></tr><tr><td>2017-04-22</td><td>161</td></tr><tr><td>2017-06-10</td><td>151</td></tr><tr><td>2017-06-11</td><td>233</td></tr><tr><td>2017-03-07</td><td>159</td></tr><tr><td>2017-05-14</td><td>186</td></tr><tr><td>2017-05-30</td><td>162</td></tr><tr><td>2017-06-21</td><td>218</td></tr><tr><td>2017-02-27</td><td>174</td></tr><tr><td>2017-03-27</td><td>185</td></tr><tr><td>2017-02-18</td><td>195</td></tr><tr><td>2017-05-08</td><td>194</td></tr><tr><td>2017-05-06</td><td>168</td></tr><tr><td>2017-06-26</td><td>187</td></tr><tr><td>2017-01-09</td><td>117</td></tr><tr><td>2017-06-16</td><td>133</td></tr><tr><td>2017-05-23</td><td>158</td></tr><tr><td>2017-04-06</td><td>172</td></tr><tr><td>2017-03-10</td><td>159</td></tr><tr><td>2017-05-03</td><td>172</td></tr><tr><td>2017-05-04</td><td>191</td></tr><tr><td>2017-02-21</td><td>167</td></tr><tr><td>2017-03-03</td><td>129</td></tr><tr><td>2017-03-23</td><td>155</td></tr><tr><td>2017-05-02</td><td>158</td></tr><tr><td>2017-03-22</td><td>141</td></tr><tr><td>2017-06-05</td><td>187</td></tr><tr><td>2017-05-17</td><td>170</td></tr><tr><td>2017-04-24</td><td>167</td></tr><tr><td>2017-06-23</td><td>161</td></tr><tr><td>2017-01-22</td><td>126</td></tr><tr><td>2017-02-02</td><td>148</td></tr><tr><td>2017-03-02</td><td>118</td></tr><tr><td>2017-03-12</td><td>167</td></tr><tr><td>2017-05-24</td><td>148</td></tr><tr><td>2017-01-15</td><td>156</td></tr><tr><td>2017-05-25</td><td>189</td></tr><tr><td>2017-05-18</td><td>136</td></tr><tr><td>2017-05-12</td><td>199</td></tr><tr><td>2017-03-31</td><td>131</td></tr><tr><td>2017-05-20</td><td>193</td></tr><tr><td>2017-01-02</td><td>135</td></tr><tr><td>2017-01-28</td><td>181</td></tr><tr><td>2017-03-09</td><td>179</td></tr><tr><td>2017-02-20</td><td>237</td></tr><tr><td>2017-01-18</td><td>159</td></tr><tr><td>2017-02-19</td><td>165</td></tr><tr><td>2017-03-04</td><td>144</td></tr><tr><td>2017-02-15</td><td>155</td></tr><tr><td>2017-02-13</td><td>150</td></tr><tr><td>2017-04-16</td><td>148</td></tr><tr><td>2017-01-03</td><td>138</td></tr><tr><td>2017-05-29</td><td>157</td></tr><tr><td>2017-04-19</td><td>218</td></tr><tr><td>2017-04-13</td><td>108</td></tr><tr><td>2017-04-04</td><td>156</td></tr><tr><td>2017-03-01</td><td>306</td></tr><tr><td>2017-03-25</td><td>144</td></tr><tr><td>2017-02-11</td><td>124</td></tr><tr><td>2017-06-12</td><td>153</td></tr><tr><td>2017-04-28</td><td>205</td></tr><tr><td>2017-05-31</td><td>192</td></tr><tr><td>2017-02-09</td><td>138</td></tr><tr><td>2017-05-16</td><td>190</td></tr><tr><td>2017-03-14</td><td>137</td></tr><tr><td>2017-03-08</td><td>136</td></tr><tr><td>2017-06-04</td><td>148</td></tr><tr><td>2017-04-17</td><td>168</td></tr><tr><td>2017-04-10</td><td>161</td></tr><tr><td>2017-06-27</td><td>172</td></tr><tr><td>2017-01-14</td><td>143</td></tr><tr><td>2017-05-01</td><td>220</td></tr><tr><td>2017-04-01</td><td>170</td></tr><tr><td>2017-06-24</td><td>196</td></tr><tr><td>2017-05-15</td><td>171</td></tr><tr><td>2017-02-14</td><td>135</td></tr><tr><td>2017-01-29</td><td>142</td></tr><tr><td>2017-05-13</td><td>164</td></tr><tr><td>2017-02-04</td><td>128</td></tr><tr><td>2017-03-15</td><td>141</td></tr><tr><td>2017-06-20</td><td>185</td></tr><tr><td>2017-04-14</td><td>166</td></tr><tr><td>2017-04-21</td><td>137</td></tr><tr><td>2016-03-01</td><td>8</td></tr><tr><td>2016-04-25</td><td>15</td></tr><tr><td>2016-05-03</td><td>15</td></tr><tr><td>2016-07-26</td><td>44</td></tr><tr><td>2016-08-15</td><td>93</td></tr><tr><td>2016-08-31</td><td>126</td></tr><tr><td>2016-10-03</td><td>130</td></tr><tr><td>2016-01-28</td><td>5</td></tr><tr><td>2016-07-17</td><td>39</td></tr><tr><td>2016-11-08</td><td>101</td></tr><tr><td>2016-12-19</td><td>169</td></tr><tr><td>2016-07-03</td><td>64</td></tr><tr><td>2016-08-23</td><td>89</td></tr><tr><td>2016-02-04</td><td>17</td></tr><tr><td>2016-05-26</td><td>10</td></tr><tr><td>2016-06-02</td><td>13</td></tr><tr><td>2016-01-13</td><td>12</td></tr><tr><td>2016-09-23</td><td>149</td></tr><tr><td>2016-01-01</td><td>8</td></tr><tr><td>2016-04-22</td><td>6</td></tr><tr><td>2016-06-16</td><td>7</td></tr><tr><td>2016-09-30</td><td>126</td></tr><tr><td>2016-01-19</td><td>5</td></tr><tr><td>2016-05-09</td><td>8</td></tr><tr><td>2016-07-19</td><td>37</td></tr><tr><td>2016-09-15</td><td>128</td></tr><tr><td>2016-02-08</td><td>11</td></tr><tr><td>2016-10-07</td><td>118</td></tr><tr><td>2016-12-12</td><td>188</td></tr><tr><td>2016-05-23</td><td>12</td></tr><tr><td>2016-09-26</td><td>114</td></tr><tr><td>2016-12-13</td><td>189</td></tr><tr><td>2016-02-03</td><td>9</td></tr><tr><td>2016-03-25</td><td>4</td></tr><tr><td>2016-08-26</td><td>122</td></tr><tr><td>2016-08-01</td><td>105</td></tr><tr><td>2016-09-09</td><td>153</td></tr><tr><td>2016-06-17</td><td>9</td></tr><tr><td>2016-09-27</td><td>145</td></tr><tr><td>2016-08-16</td><td>132</td></tr><tr><td>2016-10-23</td><td>142</td></tr><tr><td>2016-04-30</td><td>11</td></tr><tr><td>2016-07-21</td><td>21</td></tr><tr><td>2016-05-27</td><td>10</td></tr><tr><td>2016-07-02</td><td>37</td></tr><tr><td>2016-08-06</td><td>106</td></tr><tr><td>2016-10-20</td><td>126</td></tr><tr><td>2016-05-07</td><td>9</td></tr><tr><td>2016-04-26</td><td>9</td></tr><tr><td>2016-05-13</td><td>9</td></tr><tr><td>2016-05-31</td><td>16</td></tr><tr><td>2016-08-05</td><td>90</td></tr><tr><td>2016-02-22</td><td>11</td></tr><tr><td>2016-10-24</td><td>101</td></tr><tr><td>2016-10-27</td><td>102</td></tr><tr><td>2016-11-14</td><td>152</td></tr><tr><td>2016-03-22</td><td>7</td></tr><tr><td>2016-08-20</td><td>99</td></tr><tr><td>2016-09-05</td><td>112</td></tr><tr><td>2016-05-21</td><td>10</td></tr><tr><td>2016-12-15</td><td>194</td></tr><tr><td>2016-05-11</td><td>11</td></tr><tr><td>2016-11-24</td><td>182</td></tr><tr><td>2016-06-22</td><td>6</td></tr><tr><td>2016-11-25</td><td>104</td></tr><tr><td>2016-11-30</td><td>152</td></tr><tr><td>2016-05-28</td><td>12</td></tr><tr><td>2016-06-19</td><td>13</td></tr><tr><td>2016-03-11</td><td>8</td></tr><tr><td>2016-03-27</td><td>3</td></tr><tr><td>2016-06-08</td><td>17</td></tr><tr><td>2016-11-19</td><td>148</td></tr><tr><td>2016-12-20</td><td>156</td></tr><tr><td>2016-12-21</td><td>157</td></tr><tr><td>2016-06-15</td><td>14</td></tr><tr><td>2016-07-31</td><td>46</td></tr><tr><td>2016-08-03</td><td>126</td></tr><tr><td>2016-04-04</td><td>12</td></tr><tr><td>2016-06-13</td><td>9</td></tr><tr><td>2016-01-11</td><td>7</td></tr><tr><td>2016-12-22</td><td>103</td></tr><tr><td>2016-03-14</td><td>9</td></tr><tr><td>2016-04-16</td><td>7</td></tr><tr><td>2016-04-18</td><td>11</td></tr><tr><td>2016-08-12</td><td>148</td></tr><tr><td>2016-09-22</td><td>126</td></tr><tr><td>2016-10-17</td><td>120</td></tr><tr><td>2016-08-19</td><td>149</td></tr><tr><td>2016-04-11</td><td>12</td></tr><tr><td>2016-09-14</td><td>129</td></tr><tr><td>2016-06-29</td><td>7</td></tr><tr><td>2016-03-03</td><td>6</td></tr><tr><td>2016-01-05</td><td>7</td></tr><tr><td>2016-01-06</td><td>2</td></tr><tr><td>2016-06-27</td><td>13</td></tr><tr><td>2016-04-29</td><td>7</td></tr><tr><td>2016-08-10</td><td>88</td></tr><tr><td>2016-10-30</td><td>121</td></tr><tr><td>2016-01-20</td><td>7</td></tr><tr><td>2016-05-05</td><td>14</td></tr><tr><td>2016-02-11</td><td>4</td></tr><tr><td>2016-04-19</td><td>7</td></tr><tr><td>2016-09-12</td><td>162</td></tr><tr><td>2016-10-06</td><td>185</td></tr><tr><td>2016-02-09</td><td>10</td></tr><tr><td>2016-04-14</td><td>7</td></tr><tr><td>2016-01-29</td><td>8</td></tr><tr><td>2016-01-26</td><td>9</td></tr><tr><td>2016-08-13</td><td>129</td></tr><tr><td>2016-11-15</td><td>147</td></tr><tr><td>2016-02-15</td><td>11</td></tr><tr><td>2016-09-18</td><td>148</td></tr><tr><td>2016-12-03</td><td>178</td></tr><tr><td>2016-03-20</td><td>11</td></tr><tr><td>2016-07-13</td><td>44</td></tr><tr><td>2016-09-08</td><td>139</td></tr><tr><td>2016-10-21</td><td>125</td></tr><tr><td>2016-05-08</td><td>15</td></tr><tr><td>2016-09-01</td><td>83</td></tr><tr><td>2016-02-25</td><td>15</td></tr><tr><td>2016-03-16</td><td>7</td></tr><tr><td>2016-04-08</td><td>13</td></tr><tr><td>2016-12-25</td><td>163</td></tr><tr><td>2016-11-21</td><td>147</td></tr><tr><td>2016-12-31</td><td>195</td></tr><tr><td>2016-09-25</td><td>100</td></tr><tr><td>2016-03-19</td><td>11</td></tr><tr><td>2016-08-30</td><td>131</td></tr><tr><td>2016-10-29</td><td>109</td></tr><tr><td>2016-04-02</td><td>13</td></tr><tr><td>2016-08-07</td><td>140</td></tr><tr><td>2016-11-06</td><td>125</td></tr><tr><td>2016-10-26</td><td>154</td></tr><tr><td>2016-03-31</td><td>10</td></tr><tr><td>2016-09-02</td><td>140</td></tr><tr><td>2016-02-18</td><td>13</td></tr><tr><td>2016-07-10</td><td>34</td></tr><tr><td>2016-07-16</td><td>40</td></tr><tr><td>2016-12-30</td><td>158</td></tr><tr><td>2016-05-12</td><td>13</td></tr><tr><td>2016-12-17</td><td>165</td></tr><tr><td>2016-07-24</td><td>85</td></tr><tr><td>2016-02-28</td><td>8</td></tr><tr><td>2016-12-02</td><td>172</td></tr><tr><td>2016-01-24</td><td>7</td></tr><tr><td>2016-08-27</td><td>112</td></tr><tr><td>2016-10-09</td><td>142</td></tr><tr><td>2016-05-01</td><td>13</td></tr><tr><td>2016-08-18</td><td>137</td></tr><tr><td>2016-11-07</td><td>153</td></tr><tr><td>2016-12-18</td><td>182</td></tr><tr><td>2016-02-12</td><td>10</td></tr><tr><td>2016-04-20</td><td>9</td></tr><tr><td>2016-09-16</td><td>102</td></tr><tr><td>2016-11-04</td><td>136</td></tr><tr><td>2016-12-29</td><td>181</td></tr><tr><td>2016-03-02</td><td>10</td></tr><tr><td>2016-08-04</td><td>99</td></tr><tr><td>2016-12-27</td><td>131</td></tr><tr><td>2016-06-05</td><td>7</td></tr><tr><td>2016-06-14</td><td>11</td></tr><tr><td>2016-12-05</td><td>167</td></tr><tr><td>2016-04-13</td><td>18</td></tr><tr><td>2016-09-13</td><td>168</td></tr><tr><td>2016-10-14</td><td>143</td></tr><tr><td>2016-04-09</td><td>10</td></tr><tr><td>2016-07-29</td><td>64</td></tr><tr><td>2016-08-21</td><td>115</td></tr><tr><td>2016-08-22</td><td>62</td></tr><tr><td>2016-09-24</td><td>107</td></tr><tr><td>2016-05-02</td><td>11</td></tr><tr><td>2016-07-08</td><td>38</td></tr><tr><td>2016-08-29</td><td>147</td></tr><tr><td>2016-01-03</td><td>7</td></tr><tr><td>2016-07-04</td><td>58</td></tr><tr><td>2016-10-11</td><td>117</td></tr><tr><td>2016-03-24</td><td>5</td></tr><tr><td>2016-08-14</td><td>128</td></tr><tr><td>2016-11-23</td><td>116</td></tr><tr><td>2016-07-12</td><td>47</td></tr><tr><td>2016-12-11</td><td>178</td></tr><tr><td>2016-01-21</td><td>7</td></tr><tr><td>2016-04-17</td><td>16</td></tr><tr><td>2016-07-30</td><td>31</td></tr><tr><td>2016-03-04</td><td>6</td></tr><tr><td>2016-08-08</td><td>180</td></tr><tr><td>2016-01-27</td><td>3</td></tr><tr><td>2016-11-18</td><td>161</td></tr><tr><td>2016-04-01</td><td>11</td></tr><tr><td>2016-07-14</td><td>39</td></tr><tr><td>2016-11-01</td><td>119</td></tr><tr><td>2016-01-14</td><td>6</td></tr><tr><td>2016-06-18</td><td>8</td></tr><tr><td>2016-08-09</td><td>124</td></tr><tr><td>2016-03-21</td><td>5</td></tr><tr><td>2016-05-15</td><td>8</td></tr><tr><td>2016-06-10</td><td>14</td></tr><tr><td>2016-10-12</td><td>121</td></tr><tr><td>2016-02-19</td><td>10</td></tr><tr><td>2016-02-21</td><td>13</td></tr><tr><td>2016-03-26</td><td>8</td></tr><tr><td>2016-04-07</td><td>11</td></tr><tr><td>2016-11-28</td><td>153</td></tr><tr><td>2016-05-16</td><td>8</td></tr><tr><td>2016-11-17</td><td>139</td></tr><tr><td>2016-09-03</td><td>115</td></tr><tr><td>2016-10-16</td><td>89</td></tr><tr><td>2016-05-14</td><td>12</td></tr><tr><td>2016-06-23</td><td>9</td></tr><tr><td>2016-10-22</td><td>161</td></tr><tr><td>2016-08-02</td><td>104</td></tr><tr><td>2016-12-04</td><td>166</td></tr><tr><td>2016-02-13</td><td>10</td></tr><tr><td>2016-04-12</td><td>7</td></tr><tr><td>2016-07-27</td><td>40</td></tr><tr><td>2016-02-26</td><td>7</td></tr><tr><td>2016-05-10</td><td>6</td></tr><tr><td>2016-09-17</td><td>129</td></tr><tr><td>2016-05-17</td><td>8</td></tr><tr><td>2016-11-27</td><td>152</td></tr><tr><td>2016-04-03</td><td>5</td></tr><tr><td>2016-10-13</td><td>118</td></tr><tr><td>2016-02-02</td><td>10</td></tr><tr><td>2016-11-26</td><td>136</td></tr><tr><td>2016-12-06</td><td>193</td></tr><tr><td>2016-03-10</td><td>5</td></tr><tr><td>2016-06-24</td><td>10</td></tr><tr><td>2016-11-02</td><td>126</td></tr><tr><td>2016-12-14</td><td>150</td></tr><tr><td>2016-02-07</td><td>8</td></tr><tr><td>2016-09-19</td><td>170</td></tr><tr><td>2016-08-11</td><td>91</td></tr><tr><td>2016-10-10</td><td>129</td></tr><tr><td>2016-01-17</td><td>7</td></tr><tr><td>2016-10-19</td><td>112</td></tr><tr><td>2016-01-12</td><td>7</td></tr><tr><td>2016-06-09</td><td>6</td></tr><tr><td>2016-07-11</td><td>69</td></tr><tr><td>2016-11-10</td><td>140</td></tr><tr><td>2016-01-08</td><td>10</td></tr><tr><td>2016-05-04</td><td>9</td></tr><tr><td>2016-02-17</td><td>12</td></tr><tr><td>2016-02-23</td><td>3</td></tr><tr><td>2016-07-18</td><td>21</td></tr><tr><td>2016-11-05</td><td>119</td></tr><tr><td>2016-12-10</td><td>122</td></tr><tr><td>2016-09-10</td><td>118</td></tr><tr><td>2016-03-28</td><td>13</td></tr><tr><td>2016-05-30</td><td>15</td></tr><tr><td>2016-11-29</td><td>160</td></tr><tr><td>2016-04-15</td><td>9</td></tr><tr><td>2016-04-28</td><td>8</td></tr><tr><td>2016-12-09</td><td>148</td></tr><tr><td>2016-01-30</td><td>6</td></tr><tr><td>2016-03-15</td><td>5</td></tr><tr><td>2016-04-24</td><td>14</td></tr><tr><td>2016-04-23</td><td>6</td></tr><tr><td>2016-03-08</td><td>14</td></tr><tr><td>2016-06-26</td><td>8</td></tr><tr><td>2016-12-16</td><td>130</td></tr><tr><td>2016-03-06</td><td>6</td></tr><tr><td>2016-05-19</td><td>7</td></tr><tr><td>2016-07-07</td><td>45</td></tr><tr><td>2016-01-22</td><td>10</td></tr><tr><td>2016-02-10</td><td>5</td></tr><tr><td>2016-02-24</td><td>11</td></tr><tr><td>2016-07-01</td><td>35</td></tr><tr><td>2016-07-23</td><td>34</td></tr><tr><td>2016-01-02</td><td>12</td></tr><tr><td>2016-09-06</td><td>106</td></tr><tr><td>2016-01-31</td><td>8</td></tr><tr><td>2016-03-17</td><td>8</td></tr><tr><td>2016-04-05</td><td>10</td></tr><tr><td>2016-08-17</td><td>124</td></tr><tr><td>2016-02-05</td><td>8</td></tr><tr><td>2016-06-21</td><td>15</td></tr><tr><td>2016-08-24</td><td>166</td></tr><tr><td>2016-09-21</td><td>133</td></tr><tr><td>2016-10-08</td><td>180</td></tr><tr><td>2016-04-06</td><td>5</td></tr><tr><td>2016-05-24</td><td>15</td></tr><tr><td>2016-03-30</td><td>10</td></tr><tr><td>2016-10-28</td><td>119</td></tr><tr><td>2016-12-08</td><td>162</td></tr><tr><td>2016-06-03</td><td>8</td></tr><tr><td>2016-06-30</td><td>10</td></tr><tr><td>2016-07-06</td><td>24</td></tr><tr><td>2016-07-20</td><td>72</td></tr><tr><td>2016-03-13</td><td>6</td></tr><tr><td>2016-03-05</td><td>17</td></tr><tr><td>2016-03-07</td><td>9</td></tr><tr><td>2016-06-28</td><td>13</td></tr><tr><td>2016-12-24</td><td>170</td></tr><tr><td>2016-01-23</td><td>14</td></tr><tr><td>2016-10-05</td><td>148</td></tr><tr><td>2016-02-06</td><td>14</td></tr><tr><td>2016-03-12</td><td>19</td></tr><tr><td>2016-01-04</td><td>8</td></tr><tr><td>2016-05-20</td><td>9</td></tr><tr><td>2016-06-12</td><td>11</td></tr><tr><td>2016-07-05</td><td>39</td></tr><tr><td>2016-10-31</td><td>118</td></tr><tr><td>2016-11-13</td><td>136</td></tr><tr><td>2016-12-28</td><td>161</td></tr><tr><td>2016-02-14</td><td>10</td></tr><tr><td>2016-05-29</td><td>8</td></tr><tr><td>2016-11-12</td><td>132</td></tr><tr><td>2016-06-11</td><td>10</td></tr><tr><td>2016-09-28</td><td>121</td></tr><tr><td>2016-05-25</td><td>7</td></tr><tr><td>2016-01-15</td><td>10</td></tr><tr><td>2016-01-25</td><td>4</td></tr><tr><td>2016-12-01</td><td>167</td></tr><tr><td>2016-02-20</td><td>10</td></tr><tr><td>2016-06-25</td><td>9</td></tr><tr><td>2016-10-04</td><td>112</td></tr><tr><td>2016-02-01</td><td>10</td></tr><tr><td>2016-11-20</td><td>87</td></tr><tr><td>2016-01-16</td><td>11</td></tr><tr><td>2016-07-22</td><td>45</td></tr><tr><td>2016-11-11</td><td>85</td></tr><tr><td>2016-04-21</td><td>5</td></tr><tr><td>2016-08-25</td><td>152</td></tr><tr><td>2016-01-10</td><td>10</td></tr><tr><td>2016-03-09</td><td>5</td></tr><tr><td>2016-01-18</td><td>7</td></tr><tr><td>2016-05-22</td><td>12</td></tr><tr><td>2016-07-28</td><td>39</td></tr><tr><td>2016-09-20</td><td>136</td></tr><tr><td>2016-09-29</td><td>81</td></tr><tr><td>2016-02-16</td><td>4</td></tr><tr><td>2016-02-27</td><td>3</td></tr><tr><td>2016-01-07</td><td>9</td></tr><tr><td>2016-10-18</td><td>140</td></tr><tr><td>2016-10-25</td><td>124</td></tr><tr><td>2016-01-09</td><td>9</td></tr><tr><td>2016-04-10</td><td>6</td></tr><tr><td>2016-09-07</td><td>137</td></tr><tr><td>2016-10-01</td><td>127</td></tr><tr><td>2016-12-23</td><td>159</td></tr><tr><td>2016-05-18</td><td>2</td></tr><tr><td>2016-06-01</td><td>15</td></tr><tr><td>2016-06-04</td><td>8</td></tr><tr><td>2016-06-20</td><td>10</td></tr><tr><td>2016-09-04</td><td>136</td></tr><tr><td>2016-10-15</td><td>158</td></tr><tr><td>2016-12-26</td><td>175</td></tr><tr><td>2016-04-27</td><td>10</td></tr><tr><td>2016-07-25</td><td>39</td></tr><tr><td>2016-11-03</td><td>172</td></tr><tr><td>2016-05-06</td><td>15</td></tr><tr><td>2016-06-07</td><td>11</td></tr><tr><td>2016-08-28</td><td>122</td></tr><tr><td>2016-09-11</td><td>87</td></tr><tr><td>2016-03-18</td><td>15</td></tr><tr><td>2016-12-07</td><td>237</td></tr><tr><td>2016-07-09</td><td>58</td></tr><tr><td>2016-11-09</td><td>125</td></tr><tr><td>2016-03-29</td><td>10</td></tr><tr><td>2016-03-23</td><td>6</td></tr><tr><td>2016-06-06</td><td>11</td></tr><tr><td>2016-07-15</td><td>59</td></tr><tr><td>2016-11-22</td><td>170</td></tr><tr><td>2016-10-02</td><td>157</td></tr><tr><td>2016-11-16</td><td>117</td></tr><tr><td>2015-03-09</td><td>6</td></tr><tr><td>2015-05-19</td><td>6</td></tr><tr><td>2015-03-06</td><td>9</td></tr><tr><td>2015-04-09</td><td>5</td></tr><tr><td>2015-09-02</td><td>7</td></tr><tr><td>2015-12-22</td><td>12</td></tr><tr><td>2015-05-10</td><td>3</td></tr><tr><td>2015-09-28</td><td>2</td></tr><tr><td>2015-03-12</td><td>5</td></tr><tr><td>2015-03-16</td><td>5</td></tr><tr><td>2015-04-01</td><td>5</td></tr><tr><td>2015-04-24</td><td>3</td></tr><tr><td>2015-03-11</td><td>6</td></tr><tr><td>2015-06-15</td><td>6</td></tr><tr><td>2015-10-16</td><td>9</td></tr><tr><td>2015-11-02</td><td>4</td></tr><tr><td>2015-11-27</td><td>14</td></tr><tr><td>2015-12-31</td><td>7</td></tr><tr><td>2015-08-01</td><td>9</td></tr><tr><td>2015-04-19</td><td>4</td></tr><tr><td>2015-10-30</td><td>12</td></tr><tr><td>2015-12-29</td><td>14</td></tr><tr><td>2015-06-19</td><td>13</td></tr><tr><td>2015-10-13</td><td>13</td></tr><tr><td>2015-04-07</td><td>9</td></tr><tr><td>2015-08-24</td><td>10</td></tr><tr><td>2015-09-29</td><td>7</td></tr><tr><td>2015-01-20</td><td>6</td></tr><tr><td>2015-09-06</td><td>4</td></tr><tr><td>2015-09-21</td><td>5</td></tr><tr><td>2015-12-05</td><td>13</td></tr><tr><td>2015-04-28</td><td>7</td></tr><tr><td>2015-06-22</td><td>5</td></tr><tr><td>2015-11-21</td><td>7</td></tr><tr><td>2015-05-16</td><td>11</td></tr><tr><td>2015-12-30</td><td>7</td></tr><tr><td>2015-09-20</td><td>7</td></tr><tr><td>2015-02-25</td><td>5</td></tr><tr><td>2015-03-21</td><td>4</td></tr><tr><td>2015-09-15</td><td>4</td></tr><tr><td>2015-11-30</td><td>9</td></tr><tr><td>2015-02-03</td><td>7</td></tr><tr><td>2015-02-09</td><td>2</td></tr><tr><td>2015-02-17</td><td>4</td></tr><tr><td>2015-09-04</td><td>6</td></tr><tr><td>2015-05-25</td><td>9</td></tr><tr><td>2015-09-17</td><td>5</td></tr><tr><td>2015-02-04</td><td>7</td></tr><tr><td>2015-06-23</td><td>15</td></tr><tr><td>2015-02-07</td><td>6</td></tr><tr><td>2015-05-06</td><td>8</td></tr><tr><td>2015-02-01</td><td>5</td></tr><tr><td>2015-12-06</td><td>5</td></tr><tr><td>2015-07-21</td><td>10</td></tr><tr><td>2015-08-10</td><td>4</td></tr><tr><td>2015-09-10</td><td>9</td></tr><tr><td>2015-10-24</td><td>9</td></tr><tr><td>2015-02-10</td><td>9</td></tr><tr><td>2015-03-22</td><td>6</td></tr><tr><td>2015-04-18</td><td>7</td></tr><tr><td>2015-01-24</td><td>8</td></tr><tr><td>2015-04-08</td><td>3</td></tr><tr><td>2015-05-03</td><td>4</td></tr><tr><td>2015-09-07</td><td>2</td></tr><tr><td>2015-09-09</td><td>9</td></tr><tr><td>2015-11-15</td><td>2</td></tr><tr><td>2015-05-18</td><td>8</td></tr><tr><td>2015-06-05</td><td>6</td></tr><tr><td>2015-06-09</td><td>5</td></tr><tr><td>2015-12-17</td><td>11</td></tr><tr><td>2015-06-24</td><td>7</td></tr><tr><td>2015-07-06</td><td>10</td></tr><tr><td>2015-01-23</td><td>3</td></tr><tr><td>2015-08-21</td><td>10</td></tr><tr><td>2015-07-27</td><td>10</td></tr><tr><td>2015-05-23</td><td>7</td></tr><tr><td>2015-07-24</td><td>5</td></tr><tr><td>2015-08-02</td><td>8</td></tr><tr><td>2015-12-11</td><td>13</td></tr><tr><td>2015-04-22</td><td>4</td></tr><tr><td>2015-06-27</td><td>9</td></tr><tr><td>2015-11-17</td><td>6</td></tr><tr><td>2015-06-11</td><td>5</td></tr><tr><td>2015-11-06</td><td>8</td></tr><tr><td>2015-03-19</td><td>4</td></tr><tr><td>2015-08-17</td><td>10</td></tr><tr><td>2015-03-13</td><td>10</td></tr><tr><td>2015-05-21</td><td>6</td></tr><tr><td>2015-06-01</td><td>4</td></tr><tr><td>2015-11-08</td><td>7</td></tr><tr><td>2015-04-11</td><td>6</td></tr><tr><td>2015-11-28</td><td>6</td></tr><tr><td>2015-01-11</td><td>9</td></tr><tr><td>2015-09-16</td><td>5</td></tr><tr><td>2015-10-08</td><td>7</td></tr><tr><td>2015-10-28</td><td>6</td></tr><tr><td>2015-04-15</td><td>13</td></tr><tr><td>2015-08-08</td><td>8</td></tr><tr><td>2015-04-27</td><td>9</td></tr><tr><td>2015-04-16</td><td>7</td></tr><tr><td>2015-10-11</td><td>7</td></tr><tr><td>2015-08-19</td><td>11</td></tr><tr><td>2015-10-25</td><td>7</td></tr><tr><td>2015-11-07</td><td>5</td></tr><tr><td>2015-09-19</td><td>9</td></tr><tr><td>2015-11-25</td><td>8</td></tr><tr><td>2015-06-26</td><td>7</td></tr><tr><td>2015-07-12</td><td>7</td></tr><tr><td>2015-07-11</td><td>12</td></tr><tr><td>2015-10-12</td><td>11</td></tr><tr><td>2015-01-10</td><td>4</td></tr><tr><td>2015-01-22</td><td>9</td></tr><tr><td>2015-10-18</td><td>7</td></tr><tr><td>2015-11-22</td><td>4</td></tr><tr><td>2015-12-01</td><td>11</td></tr><tr><td>2015-03-15</td><td>10</td></tr><tr><td>2015-07-29</td><td>6</td></tr><tr><td>2015-12-08</td><td>11</td></tr><tr><td>2015-04-14</td><td>3</td></tr><tr><td>2015-01-29</td><td>4</td></tr><tr><td>2015-03-18</td><td>8</td></tr><tr><td>2015-04-29</td><td>11</td></tr><tr><td>2015-01-08</td><td>8</td></tr><tr><td>2015-01-26</td><td>4</td></tr><tr><td>2015-06-06</td><td>7</td></tr><tr><td>2015-03-01</td><td>6</td></tr><tr><td>2015-08-06</td><td>12</td></tr><tr><td>2015-12-12</td><td>17</td></tr><tr><td>2015-08-31</td><td>12</td></tr><tr><td>2015-07-10</td><td>7</td></tr><tr><td>2015-01-17</td><td>8</td></tr><tr><td>2015-07-18</td><td>7</td></tr><tr><td>2015-12-02</td><td>9</td></tr><tr><td>2015-04-20</td><td>11</td></tr><tr><td>2015-10-20</td><td>9</td></tr><tr><td>2015-12-26</td><td>8</td></tr><tr><td>2015-12-27</td><td>9</td></tr><tr><td>2015-05-09</td><td>6</td></tr><tr><td>2015-01-15</td><td>7</td></tr><tr><td>2015-07-15</td><td>4</td></tr><tr><td>2015-12-15</td><td>5</td></tr><tr><td>2015-01-25</td><td>4</td></tr><tr><td>2015-05-29</td><td>1</td></tr><tr><td>2015-11-04</td><td>1</td></tr><tr><td>2015-11-26</td><td>6</td></tr><tr><td>2015-12-04</td><td>3</td></tr><tr><td>2015-12-23</td><td>12</td></tr><tr><td>2015-02-11</td><td>12</td></tr><tr><td>2015-12-07</td><td>17</td></tr><tr><td>2015-01-14</td><td>9</td></tr><tr><td>2015-12-10</td><td>9</td></tr><tr><td>2015-05-11</td><td>4</td></tr><tr><td>2015-02-28</td><td>5</td></tr><tr><td>2015-03-05</td><td>3</td></tr><tr><td>2015-03-28</td><td>8</td></tr><tr><td>2015-10-07</td><td>6</td></tr><tr><td>2015-07-30</td><td>10</td></tr><tr><td>2015-04-23</td><td>10</td></tr><tr><td>2015-07-13</td><td>12</td></tr><tr><td>2015-08-30</td><td>8</td></tr><tr><td>2015-05-05</td><td>3</td></tr><tr><td>2015-09-22</td><td>5</td></tr><tr><td>2015-10-14</td><td>6</td></tr><tr><td>2015-02-20</td><td>5</td></tr><tr><td>2015-06-20</td><td>7</td></tr><tr><td>2015-07-01</td><td>8</td></tr><tr><td>2015-10-03</td><td>7</td></tr><tr><td>2015-12-24</td><td>12</td></tr><tr><td>2015-01-30</td><td>10</td></tr><tr><td>2015-02-14</td><td>8</td></tr><tr><td>2015-04-02</td><td>3</td></tr><tr><td>2015-06-25</td><td>4</td></tr><tr><td>2015-04-25</td><td>8</td></tr><tr><td>2015-07-08</td><td>6</td></tr><tr><td>2015-12-25</td><td>8</td></tr><tr><td>2015-05-14</td><td>6</td></tr><tr><td>2015-08-14</td><td>10</td></tr><tr><td>2015-01-03</td><td>8</td></tr><tr><td>2015-01-06</td><td>6</td></tr><tr><td>2015-10-27</td><td>3</td></tr><tr><td>2015-12-19</td><td>14</td></tr><tr><td>2015-03-24</td><td>12</td></tr><tr><td>2015-04-13</td><td>4</td></tr><tr><td>2015-02-24</td><td>9</td></tr><tr><td>2015-05-22</td><td>5</td></tr><tr><td>2015-07-17</td><td>11</td></tr><tr><td>2015-07-31</td><td>9</td></tr><tr><td>2015-09-03</td><td>8</td></tr><tr><td>2015-08-16</td><td>5</td></tr><tr><td>2015-09-12</td><td>7</td></tr><tr><td>2015-11-11</td><td>11</td></tr><tr><td>2015-04-06</td><td>5</td></tr><tr><td>2015-05-13</td><td>13</td></tr><tr><td>2015-09-05</td><td>3</td></tr><tr><td>2015-10-26</td><td>9</td></tr><tr><td>2015-06-17</td><td>6</td></tr><tr><td>2015-08-03</td><td>5</td></tr><tr><td>2015-08-20</td><td>12</td></tr><tr><td>2015-09-23</td><td>7</td></tr><tr><td>2015-03-02</td><td>7</td></tr><tr><td>2015-08-27</td><td>11</td></tr><tr><td>2015-09-14</td><td>9</td></tr><tr><td>2015-12-20</td><td>14</td></tr><tr><td>2015-08-22</td><td>10</td></tr><tr><td>2015-10-17</td><td>6</td></tr><tr><td>2015-04-03</td><td>9</td></tr><tr><td>2015-09-26</td><td>10</td></tr><tr><td>2015-10-21</td><td>9</td></tr><tr><td>2015-11-19</td><td>4</td></tr><tr><td>2015-10-01</td><td>8</td></tr><tr><td>2015-10-02</td><td>8</td></tr><tr><td>2015-05-12</td><td>8</td></tr><tr><td>2015-07-23</td><td>7</td></tr><tr><td>2015-05-02</td><td>5</td></tr><tr><td>2015-07-20</td><td>9</td></tr><tr><td>2015-12-14</td><td>16</td></tr><tr><td>2015-03-04</td><td>8</td></tr><tr><td>2015-03-23</td><td>5</td></tr><tr><td>2015-04-17</td><td>9</td></tr><tr><td>2015-08-09</td><td>8</td></tr><tr><td>2015-10-19</td><td>10</td></tr><tr><td>2015-12-09</td><td>7</td></tr><tr><td>2015-02-23</td><td>5</td></tr><tr><td>2015-03-14</td><td>4</td></tr><tr><td>2015-11-03</td><td>6</td></tr><tr><td>2015-06-04</td><td>6</td></tr><tr><td>2015-02-27</td><td>3</td></tr><tr><td>2015-07-28</td><td>5</td></tr><tr><td>2015-06-28</td><td>5</td></tr><tr><td>2015-02-13</td><td>6</td></tr><tr><td>2015-03-17</td><td>9</td></tr><tr><td>2015-04-12</td><td>11</td></tr><tr><td>2015-10-09</td><td>3</td></tr><tr><td>2015-06-03</td><td>3</td></tr><tr><td>2015-02-26</td><td>11</td></tr><tr><td>2015-06-07</td><td>8</td></tr><tr><td>2015-07-22</td><td>7</td></tr><tr><td>2015-09-24</td><td>9</td></tr><tr><td>2015-11-20</td><td>9</td></tr><tr><td>2015-03-26</td><td>9</td></tr><tr><td>2015-10-22</td><td>7</td></tr><tr><td>2015-05-24</td><td>8</td></tr><tr><td>2015-01-05</td><td>3</td></tr><tr><td>2015-06-21</td><td>9</td></tr><tr><td>2015-07-04</td><td>9</td></tr><tr><td>2015-07-26</td><td>5</td></tr><tr><td>2015-12-16</td><td>11</td></tr><tr><td>2015-05-28</td><td>5</td></tr><tr><td>2015-08-26</td><td>13</td></tr><tr><td>2015-02-19</td><td>5</td></tr><tr><td>2015-08-12</td><td>9</td></tr><tr><td>2015-02-02</td><td>6</td></tr><tr><td>2015-01-04</td><td>5</td></tr><tr><td>2015-09-13</td><td>11</td></tr><tr><td>2015-11-10</td><td>7</td></tr><tr><td>2015-04-26</td><td>4</td></tr><tr><td>2015-02-06</td><td>10</td></tr><tr><td>2015-09-30</td><td>9</td></tr><tr><td>2015-04-30</td><td>13</td></tr><tr><td>2015-10-29</td><td>6</td></tr><tr><td>2015-01-16</td><td>7</td></tr><tr><td>2015-03-20</td><td>9</td></tr><tr><td>2015-05-31</td><td>3</td></tr><tr><td>2015-07-09</td><td>5</td></tr><tr><td>2015-08-13</td><td>12</td></tr><tr><td>2015-02-15</td><td>6</td></tr><tr><td>2015-09-01</td><td>2</td></tr><tr><td>2015-09-27</td><td>3</td></tr><tr><td>2015-10-04</td><td>6</td></tr><tr><td>2015-10-31</td><td>5</td></tr><tr><td>2015-01-19</td><td>6</td></tr><tr><td>2015-11-13</td><td>4</td></tr><tr><td>2015-03-08</td><td>4</td></tr><tr><td>2015-09-08</td><td>9</td></tr><tr><td>2015-04-21</td><td>5</td></tr><tr><td>2015-06-30</td><td>6</td></tr><tr><td>2015-07-02</td><td>3</td></tr><tr><td>2015-08-07</td><td>11</td></tr><tr><td>2015-02-05</td><td>6</td></tr><tr><td>2015-02-16</td><td>3</td></tr><tr><td>2015-05-01</td><td>12</td></tr><tr><td>2015-07-16</td><td>6</td></tr><tr><td>2015-01-02</td><td>4</td></tr><tr><td>2015-01-21</td><td>7</td></tr><tr><td>2015-04-10</td><td>5</td></tr><tr><td>2015-10-23</td><td>7</td></tr><tr><td>2015-02-18</td><td>2</td></tr><tr><td>2015-06-13</td><td>4</td></tr><tr><td>2015-12-13</td><td>12</td></tr><tr><td>2015-01-13</td><td>3</td></tr><tr><td>2015-01-12</td><td>7</td></tr><tr><td>2015-11-29</td><td>6</td></tr><tr><td>2015-03-07</td><td>9</td></tr><tr><td>2015-07-19</td><td>7</td></tr><tr><td>2015-11-18</td><td>7</td></tr><tr><td>2015-05-26</td><td>5</td></tr><tr><td>2015-08-11</td><td>5</td></tr><tr><td>2015-12-21</td><td>3</td></tr><tr><td>2015-12-03</td><td>16</td></tr><tr><td>2015-06-12</td><td>12</td></tr><tr><td>2015-03-10</td><td>2</td></tr><tr><td>2015-07-25</td><td>9</td></tr><tr><td>2015-05-15</td><td>7</td></tr><tr><td>2015-10-05</td><td>3</td></tr><tr><td>2015-03-27</td><td>3</td></tr><tr><td>2015-05-04</td><td>11</td></tr><tr><td>2015-11-24</td><td>10</td></tr><tr><td>2015-07-14</td><td>9</td></tr><tr><td>2015-10-10</td><td>4</td></tr><tr><td>2015-02-12</td><td>3</td></tr><tr><td>2015-07-03</td><td>13</td></tr><tr><td>2015-09-11</td><td>8</td></tr><tr><td>2015-12-28</td><td>10</td></tr><tr><td>2015-02-22</td><td>10</td></tr><tr><td>2015-05-20</td><td>6</td></tr><tr><td>2015-08-04</td><td>8</td></tr><tr><td>2015-01-28</td><td>5</td></tr><tr><td>2015-03-31</td><td>4</td></tr><tr><td>2015-05-27</td><td>5</td></tr><tr><td>2015-08-05</td><td>7</td></tr><tr><td>2015-08-25</td><td>11</td></tr><tr><td>2015-06-14</td><td>4</td></tr><tr><td>2015-01-01</td><td>4</td></tr><tr><td>2015-02-21</td><td>1</td></tr><tr><td>2015-03-25</td><td>5</td></tr><tr><td>2015-01-18</td><td>6</td></tr><tr><td>2015-03-30</td><td>4</td></tr><tr><td>2015-07-05</td><td>10</td></tr><tr><td>2015-11-09</td><td>4</td></tr><tr><td>2015-03-29</td><td>6</td></tr><tr><td>2015-08-18</td><td>8</td></tr><tr><td>2015-01-09</td><td>4</td></tr><tr><td>2015-08-28</td><td>8</td></tr><tr><td>2015-01-27</td><td>5</td></tr><tr><td>2015-02-08</td><td>4</td></tr><tr><td>2015-05-08</td><td>10</td></tr><tr><td>2015-06-08</td><td>8</td></tr><tr><td>2015-12-18</td><td>10</td></tr><tr><td>2015-04-05</td><td>4</td></tr><tr><td>2015-06-16</td><td>2</td></tr><tr><td>2015-08-29</td><td>6</td></tr><tr><td>2015-08-23</td><td>5</td></tr><tr><td>2015-06-29</td><td>8</td></tr><tr><td>2015-11-01</td><td>6</td></tr><tr><td>2015-04-04</td><td>7</td></tr><tr><td>2015-06-02</td><td>12</td></tr><tr><td>2015-09-18</td><td>9</td></tr><tr><td>2015-10-15</td><td>6</td></tr><tr><td>2015-01-07</td><td>4</td></tr><tr><td>2015-03-03</td><td>8</td></tr><tr><td>2015-05-30</td><td>7</td></tr><tr><td>2015-09-25</td><td>6</td></tr><tr><td>2015-11-23</td><td>5</td></tr><tr><td>2015-05-07</td><td>5</td></tr><tr><td>2015-11-12</td><td>6</td></tr><tr><td>2015-11-14</td><td>5</td></tr><tr><td>2015-11-16</td><td>8</td></tr><tr><td>2015-06-18</td><td>11</td></tr><tr><td>2015-07-07</td><td>9</td></tr><tr><td>2015-01-31</td><td>7</td></tr><tr><td>2015-08-15</td><td>12</td></tr><tr><td>2015-10-06</td><td>7</td></tr><tr><td>2015-11-05</td><td>6</td></tr><tr><td>2015-05-17</td><td>9</td></tr><tr><td>2015-06-10</td><td>8</td></tr></tbody></table></div>"
      ]
     },
     "metadata": {
      "application/vnd.databricks.v1+output": {
       "addedWidgets": {},
       "aggData": [],
       "aggError": "",
       "aggOverflow": false,
       "aggSchema": [],
       "aggSeriesLimitReached": false,
       "aggType": "",
       "arguments": {},
       "columnCustomDisplayInfos": {},
       "data": [
        [
         "2017-01-06",
         151
        ],
        [
         "2017-01-27",
         142
        ],
        [
         "2017-02-26",
         119
        ],
        [
         "2017-01-24",
         173
        ],
        [
         "2017-06-29",
         172
        ],
        [
         "2017-02-16",
         124
        ],
        [
         "2017-04-09",
         140
        ],
        [
         "2017-02-28",
         162
        ],
        [
         "2017-03-28",
         149
        ],
        [
         "2017-06-30",
         136
        ],
        [
         "2017-01-30",
         145
        ],
        [
         "2017-05-11",
         164
        ],
        [
         "2017-02-10",
         168
        ],
        [
         "2017-04-25",
         176
        ],
        [
         "2017-03-19",
         152
        ],
        [
         "2017-05-26",
         175
        ],
        [
         "2017-01-04",
         138
        ],
        [
         "2017-06-28",
         215
        ],
        [
         "2017-04-03",
         246
        ],
        [
         "2017-06-14",
         258
        ],
        [
         "2017-04-29",
         163
        ],
        [
         "2017-02-07",
         161
        ],
        [
         "2017-01-10",
         192
        ],
        [
         "2017-03-17",
         138
        ],
        [
         "2017-05-10",
         150
        ],
        [
         "2017-01-21",
         131
        ],
        [
         "2017-05-09",
         191
        ],
        [
         "2017-04-07",
         160
        ],
        [
         "2017-06-08",
         171
        ],
        [
         "2017-01-05",
         141
        ],
        [
         "2017-06-01",
         122
        ],
        [
         "2017-04-02",
         168
        ],
        [
         "2017-06-09",
         182
        ],
        [
         "2017-04-11",
         137
        ],
        [
         "2017-04-12",
         156
        ],
        [
         "2017-01-13",
         123
        ],
        [
         "2017-02-08",
         164
        ],
        [
         "2017-03-13",
         191
        ],
        [
         "2017-04-05",
         122
        ],
        [
         "2017-04-20",
         165
        ],
        [
         "2017-06-15",
         195
        ],
        [
         "2017-02-25",
         103
        ],
        [
         "2017-05-21",
         185
        ],
        [
         "2017-03-16",
         107
        ],
        [
         "2017-04-27",
         176
        ],
        [
         "2017-05-27",
         148
        ],
        [
         "2017-02-01",
         179
        ],
        [
         "2017-01-26",
         156
        ],
        [
         "2017-01-01",
         98
        ],
        [
         "2017-06-19",
         194
        ],
        [
         "2017-04-18",
         186
        ],
        [
         "2017-01-20",
         195
        ],
        [
         "2017-06-13",
         151
        ],
        [
         "2017-06-25",
         189
        ],
        [
         "2017-03-05",
         146
        ],
        [
         "2017-03-21",
         177
        ],
        [
         "2017-06-07",
         222
        ],
        [
         "2017-06-02",
         137
        ],
        [
         "2017-03-24",
         158
        ],
        [
         "2017-04-30",
         169
        ],
        [
         "2017-01-11",
         162
        ],
        [
         "2017-02-12",
         163
        ],
        [
         "2017-01-17",
         123
        ],
        [
         "2017-02-24",
         152
        ],
        [
         "2017-06-18",
         163
        ],
        [
         "2017-05-28",
         170
        ],
        [
         "2017-05-05",
         204
        ],
        [
         "2017-05-19",
         171
        ],
        [
         "2017-03-20",
         163
        ],
        [
         "2017-04-15",
         181
        ],
        [
         "2017-06-06",
         216
        ],
        [
         "2017-01-19",
         131
        ],
        [
         "2017-01-25",
         121
        ],
        [
         "2017-04-26",
         153
        ],
        [
         "2017-02-23",
         137
        ],
        [
         "2017-03-30",
         157
        ],
        [
         "2017-02-06",
         156
        ],
        [
         "2017-03-29",
         136
        ],
        [
         "2017-01-23",
         113
        ],
        [
         "2017-01-08",
         168
        ],
        [
         "2017-04-08",
         173
        ],
        [
         "2017-06-17",
         215
        ],
        [
         "2017-03-11",
         158
        ],
        [
         "2017-03-06",
         137
        ],
        [
         "2017-04-23",
         178
        ],
        [
         "2017-02-22",
         125
        ],
        [
         "2017-03-26",
         131
        ],
        [
         "2017-05-07",
         188
        ],
        [
         "2017-01-07",
         152
        ],
        [
         "2017-02-05",
         172
        ],
        [
         "2017-01-12",
         121
        ],
        [
         "2017-03-18",
         142
        ],
        [
         "2017-02-17",
         194
        ],
        [
         "2017-01-31",
         148
        ],
        [
         "2017-02-03",
         189
        ],
        [
         "2017-05-22",
         152
        ],
        [
         "2017-06-22",
         191
        ],
        [
         "2017-06-03",
         177
        ],
        [
         "2017-01-16",
         171
        ],
        [
         "2017-04-22",
         161
        ],
        [
         "2017-06-10",
         151
        ],
        [
         "2017-06-11",
         233
        ],
        [
         "2017-03-07",
         159
        ],
        [
         "2017-05-14",
         186
        ],
        [
         "2017-05-30",
         162
        ],
        [
         "2017-06-21",
         218
        ],
        [
         "2017-02-27",
         174
        ],
        [
         "2017-03-27",
         185
        ],
        [
         "2017-02-18",
         195
        ],
        [
         "2017-05-08",
         194
        ],
        [
         "2017-05-06",
         168
        ],
        [
         "2017-06-26",
         187
        ],
        [
         "2017-01-09",
         117
        ],
        [
         "2017-06-16",
         133
        ],
        [
         "2017-05-23",
         158
        ],
        [
         "2017-04-06",
         172
        ],
        [
         "2017-03-10",
         159
        ],
        [
         "2017-05-03",
         172
        ],
        [
         "2017-05-04",
         191
        ],
        [
         "2017-02-21",
         167
        ],
        [
         "2017-03-03",
         129
        ],
        [
         "2017-03-23",
         155
        ],
        [
         "2017-05-02",
         158
        ],
        [
         "2017-03-22",
         141
        ],
        [
         "2017-06-05",
         187
        ],
        [
         "2017-05-17",
         170
        ],
        [
         "2017-04-24",
         167
        ],
        [
         "2017-06-23",
         161
        ],
        [
         "2017-01-22",
         126
        ],
        [
         "2017-02-02",
         148
        ],
        [
         "2017-03-02",
         118
        ],
        [
         "2017-03-12",
         167
        ],
        [
         "2017-05-24",
         148
        ],
        [
         "2017-01-15",
         156
        ],
        [
         "2017-05-25",
         189
        ],
        [
         "2017-05-18",
         136
        ],
        [
         "2017-05-12",
         199
        ],
        [
         "2017-03-31",
         131
        ],
        [
         "2017-05-20",
         193
        ],
        [
         "2017-01-02",
         135
        ],
        [
         "2017-01-28",
         181
        ],
        [
         "2017-03-09",
         179
        ],
        [
         "2017-02-20",
         237
        ],
        [
         "2017-01-18",
         159
        ],
        [
         "2017-02-19",
         165
        ],
        [
         "2017-03-04",
         144
        ],
        [
         "2017-02-15",
         155
        ],
        [
         "2017-02-13",
         150
        ],
        [
         "2017-04-16",
         148
        ],
        [
         "2017-01-03",
         138
        ],
        [
         "2017-05-29",
         157
        ],
        [
         "2017-04-19",
         218
        ],
        [
         "2017-04-13",
         108
        ],
        [
         "2017-04-04",
         156
        ],
        [
         "2017-03-01",
         306
        ],
        [
         "2017-03-25",
         144
        ],
        [
         "2017-02-11",
         124
        ],
        [
         "2017-06-12",
         153
        ],
        [
         "2017-04-28",
         205
        ],
        [
         "2017-05-31",
         192
        ],
        [
         "2017-02-09",
         138
        ],
        [
         "2017-05-16",
         190
        ],
        [
         "2017-03-14",
         137
        ],
        [
         "2017-03-08",
         136
        ],
        [
         "2017-06-04",
         148
        ],
        [
         "2017-04-17",
         168
        ],
        [
         "2017-04-10",
         161
        ],
        [
         "2017-06-27",
         172
        ],
        [
         "2017-01-14",
         143
        ],
        [
         "2017-05-01",
         220
        ],
        [
         "2017-04-01",
         170
        ],
        [
         "2017-06-24",
         196
        ],
        [
         "2017-05-15",
         171
        ],
        [
         "2017-02-14",
         135
        ],
        [
         "2017-01-29",
         142
        ],
        [
         "2017-05-13",
         164
        ],
        [
         "2017-02-04",
         128
        ],
        [
         "2017-03-15",
         141
        ],
        [
         "2017-06-20",
         185
        ],
        [
         "2017-04-14",
         166
        ],
        [
         "2017-04-21",
         137
        ],
        [
         "2016-03-01",
         8
        ],
        [
         "2016-04-25",
         15
        ],
        [
         "2016-05-03",
         15
        ],
        [
         "2016-07-26",
         44
        ],
        [
         "2016-08-15",
         93
        ],
        [
         "2016-08-31",
         126
        ],
        [
         "2016-10-03",
         130
        ],
        [
         "2016-01-28",
         5
        ],
        [
         "2016-07-17",
         39
        ],
        [
         "2016-11-08",
         101
        ],
        [
         "2016-12-19",
         169
        ],
        [
         "2016-07-03",
         64
        ],
        [
         "2016-08-23",
         89
        ],
        [
         "2016-02-04",
         17
        ],
        [
         "2016-05-26",
         10
        ],
        [
         "2016-06-02",
         13
        ],
        [
         "2016-01-13",
         12
        ],
        [
         "2016-09-23",
         149
        ],
        [
         "2016-01-01",
         8
        ],
        [
         "2016-04-22",
         6
        ],
        [
         "2016-06-16",
         7
        ],
        [
         "2016-09-30",
         126
        ],
        [
         "2016-01-19",
         5
        ],
        [
         "2016-05-09",
         8
        ],
        [
         "2016-07-19",
         37
        ],
        [
         "2016-09-15",
         128
        ],
        [
         "2016-02-08",
         11
        ],
        [
         "2016-10-07",
         118
        ],
        [
         "2016-12-12",
         188
        ],
        [
         "2016-05-23",
         12
        ],
        [
         "2016-09-26",
         114
        ],
        [
         "2016-12-13",
         189
        ],
        [
         "2016-02-03",
         9
        ],
        [
         "2016-03-25",
         4
        ],
        [
         "2016-08-26",
         122
        ],
        [
         "2016-08-01",
         105
        ],
        [
         "2016-09-09",
         153
        ],
        [
         "2016-06-17",
         9
        ],
        [
         "2016-09-27",
         145
        ],
        [
         "2016-08-16",
         132
        ],
        [
         "2016-10-23",
         142
        ],
        [
         "2016-04-30",
         11
        ],
        [
         "2016-07-21",
         21
        ],
        [
         "2016-05-27",
         10
        ],
        [
         "2016-07-02",
         37
        ],
        [
         "2016-08-06",
         106
        ],
        [
         "2016-10-20",
         126
        ],
        [
         "2016-05-07",
         9
        ],
        [
         "2016-04-26",
         9
        ],
        [
         "2016-05-13",
         9
        ],
        [
         "2016-05-31",
         16
        ],
        [
         "2016-08-05",
         90
        ],
        [
         "2016-02-22",
         11
        ],
        [
         "2016-10-24",
         101
        ],
        [
         "2016-10-27",
         102
        ],
        [
         "2016-11-14",
         152
        ],
        [
         "2016-03-22",
         7
        ],
        [
         "2016-08-20",
         99
        ],
        [
         "2016-09-05",
         112
        ],
        [
         "2016-05-21",
         10
        ],
        [
         "2016-12-15",
         194
        ],
        [
         "2016-05-11",
         11
        ],
        [
         "2016-11-24",
         182
        ],
        [
         "2016-06-22",
         6
        ],
        [
         "2016-11-25",
         104
        ],
        [
         "2016-11-30",
         152
        ],
        [
         "2016-05-28",
         12
        ],
        [
         "2016-06-19",
         13
        ],
        [
         "2016-03-11",
         8
        ],
        [
         "2016-03-27",
         3
        ],
        [
         "2016-06-08",
         17
        ],
        [
         "2016-11-19",
         148
        ],
        [
         "2016-12-20",
         156
        ],
        [
         "2016-12-21",
         157
        ],
        [
         "2016-06-15",
         14
        ],
        [
         "2016-07-31",
         46
        ],
        [
         "2016-08-03",
         126
        ],
        [
         "2016-04-04",
         12
        ],
        [
         "2016-06-13",
         9
        ],
        [
         "2016-01-11",
         7
        ],
        [
         "2016-12-22",
         103
        ],
        [
         "2016-03-14",
         9
        ],
        [
         "2016-04-16",
         7
        ],
        [
         "2016-04-18",
         11
        ],
        [
         "2016-08-12",
         148
        ],
        [
         "2016-09-22",
         126
        ],
        [
         "2016-10-17",
         120
        ],
        [
         "2016-08-19",
         149
        ],
        [
         "2016-04-11",
         12
        ],
        [
         "2016-09-14",
         129
        ],
        [
         "2016-06-29",
         7
        ],
        [
         "2016-03-03",
         6
        ],
        [
         "2016-01-05",
         7
        ],
        [
         "2016-01-06",
         2
        ],
        [
         "2016-06-27",
         13
        ],
        [
         "2016-04-29",
         7
        ],
        [
         "2016-08-10",
         88
        ],
        [
         "2016-10-30",
         121
        ],
        [
         "2016-01-20",
         7
        ],
        [
         "2016-05-05",
         14
        ],
        [
         "2016-02-11",
         4
        ],
        [
         "2016-04-19",
         7
        ],
        [
         "2016-09-12",
         162
        ],
        [
         "2016-10-06",
         185
        ],
        [
         "2016-02-09",
         10
        ],
        [
         "2016-04-14",
         7
        ],
        [
         "2016-01-29",
         8
        ],
        [
         "2016-01-26",
         9
        ],
        [
         "2016-08-13",
         129
        ],
        [
         "2016-11-15",
         147
        ],
        [
         "2016-02-15",
         11
        ],
        [
         "2016-09-18",
         148
        ],
        [
         "2016-12-03",
         178
        ],
        [
         "2016-03-20",
         11
        ],
        [
         "2016-07-13",
         44
        ],
        [
         "2016-09-08",
         139
        ],
        [
         "2016-10-21",
         125
        ],
        [
         "2016-05-08",
         15
        ],
        [
         "2016-09-01",
         83
        ],
        [
         "2016-02-25",
         15
        ],
        [
         "2016-03-16",
         7
        ],
        [
         "2016-04-08",
         13
        ],
        [
         "2016-12-25",
         163
        ],
        [
         "2016-11-21",
         147
        ],
        [
         "2016-12-31",
         195
        ],
        [
         "2016-09-25",
         100
        ],
        [
         "2016-03-19",
         11
        ],
        [
         "2016-08-30",
         131
        ],
        [
         "2016-10-29",
         109
        ],
        [
         "2016-04-02",
         13
        ],
        [
         "2016-08-07",
         140
        ],
        [
         "2016-11-06",
         125
        ],
        [
         "2016-10-26",
         154
        ],
        [
         "2016-03-31",
         10
        ],
        [
         "2016-09-02",
         140
        ],
        [
         "2016-02-18",
         13
        ],
        [
         "2016-07-10",
         34
        ],
        [
         "2016-07-16",
         40
        ],
        [
         "2016-12-30",
         158
        ],
        [
         "2016-05-12",
         13
        ],
        [
         "2016-12-17",
         165
        ],
        [
         "2016-07-24",
         85
        ],
        [
         "2016-02-28",
         8
        ],
        [
         "2016-12-02",
         172
        ],
        [
         "2016-01-24",
         7
        ],
        [
         "2016-08-27",
         112
        ],
        [
         "2016-10-09",
         142
        ],
        [
         "2016-05-01",
         13
        ],
        [
         "2016-08-18",
         137
        ],
        [
         "2016-11-07",
         153
        ],
        [
         "2016-12-18",
         182
        ],
        [
         "2016-02-12",
         10
        ],
        [
         "2016-04-20",
         9
        ],
        [
         "2016-09-16",
         102
        ],
        [
         "2016-11-04",
         136
        ],
        [
         "2016-12-29",
         181
        ],
        [
         "2016-03-02",
         10
        ],
        [
         "2016-08-04",
         99
        ],
        [
         "2016-12-27",
         131
        ],
        [
         "2016-06-05",
         7
        ],
        [
         "2016-06-14",
         11
        ],
        [
         "2016-12-05",
         167
        ],
        [
         "2016-04-13",
         18
        ],
        [
         "2016-09-13",
         168
        ],
        [
         "2016-10-14",
         143
        ],
        [
         "2016-04-09",
         10
        ],
        [
         "2016-07-29",
         64
        ],
        [
         "2016-08-21",
         115
        ],
        [
         "2016-08-22",
         62
        ],
        [
         "2016-09-24",
         107
        ],
        [
         "2016-05-02",
         11
        ],
        [
         "2016-07-08",
         38
        ],
        [
         "2016-08-29",
         147
        ],
        [
         "2016-01-03",
         7
        ],
        [
         "2016-07-04",
         58
        ],
        [
         "2016-10-11",
         117
        ],
        [
         "2016-03-24",
         5
        ],
        [
         "2016-08-14",
         128
        ],
        [
         "2016-11-23",
         116
        ],
        [
         "2016-07-12",
         47
        ],
        [
         "2016-12-11",
         178
        ],
        [
         "2016-01-21",
         7
        ],
        [
         "2016-04-17",
         16
        ],
        [
         "2016-07-30",
         31
        ],
        [
         "2016-03-04",
         6
        ],
        [
         "2016-08-08",
         180
        ],
        [
         "2016-01-27",
         3
        ],
        [
         "2016-11-18",
         161
        ],
        [
         "2016-04-01",
         11
        ],
        [
         "2016-07-14",
         39
        ],
        [
         "2016-11-01",
         119
        ],
        [
         "2016-01-14",
         6
        ],
        [
         "2016-06-18",
         8
        ],
        [
         "2016-08-09",
         124
        ],
        [
         "2016-03-21",
         5
        ],
        [
         "2016-05-15",
         8
        ],
        [
         "2016-06-10",
         14
        ],
        [
         "2016-10-12",
         121
        ],
        [
         "2016-02-19",
         10
        ],
        [
         "2016-02-21",
         13
        ],
        [
         "2016-03-26",
         8
        ],
        [
         "2016-04-07",
         11
        ],
        [
         "2016-11-28",
         153
        ],
        [
         "2016-05-16",
         8
        ],
        [
         "2016-11-17",
         139
        ],
        [
         "2016-09-03",
         115
        ],
        [
         "2016-10-16",
         89
        ],
        [
         "2016-05-14",
         12
        ],
        [
         "2016-06-23",
         9
        ],
        [
         "2016-10-22",
         161
        ],
        [
         "2016-08-02",
         104
        ],
        [
         "2016-12-04",
         166
        ],
        [
         "2016-02-13",
         10
        ],
        [
         "2016-04-12",
         7
        ],
        [
         "2016-07-27",
         40
        ],
        [
         "2016-02-26",
         7
        ],
        [
         "2016-05-10",
         6
        ],
        [
         "2016-09-17",
         129
        ],
        [
         "2016-05-17",
         8
        ],
        [
         "2016-11-27",
         152
        ],
        [
         "2016-04-03",
         5
        ],
        [
         "2016-10-13",
         118
        ],
        [
         "2016-02-02",
         10
        ],
        [
         "2016-11-26",
         136
        ],
        [
         "2016-12-06",
         193
        ],
        [
         "2016-03-10",
         5
        ],
        [
         "2016-06-24",
         10
        ],
        [
         "2016-11-02",
         126
        ],
        [
         "2016-12-14",
         150
        ],
        [
         "2016-02-07",
         8
        ],
        [
         "2016-09-19",
         170
        ],
        [
         "2016-08-11",
         91
        ],
        [
         "2016-10-10",
         129
        ],
        [
         "2016-01-17",
         7
        ],
        [
         "2016-10-19",
         112
        ],
        [
         "2016-01-12",
         7
        ],
        [
         "2016-06-09",
         6
        ],
        [
         "2016-07-11",
         69
        ],
        [
         "2016-11-10",
         140
        ],
        [
         "2016-01-08",
         10
        ],
        [
         "2016-05-04",
         9
        ],
        [
         "2016-02-17",
         12
        ],
        [
         "2016-02-23",
         3
        ],
        [
         "2016-07-18",
         21
        ],
        [
         "2016-11-05",
         119
        ],
        [
         "2016-12-10",
         122
        ],
        [
         "2016-09-10",
         118
        ],
        [
         "2016-03-28",
         13
        ],
        [
         "2016-05-30",
         15
        ],
        [
         "2016-11-29",
         160
        ],
        [
         "2016-04-15",
         9
        ],
        [
         "2016-04-28",
         8
        ],
        [
         "2016-12-09",
         148
        ],
        [
         "2016-01-30",
         6
        ],
        [
         "2016-03-15",
         5
        ],
        [
         "2016-04-24",
         14
        ],
        [
         "2016-04-23",
         6
        ],
        [
         "2016-03-08",
         14
        ],
        [
         "2016-06-26",
         8
        ],
        [
         "2016-12-16",
         130
        ],
        [
         "2016-03-06",
         6
        ],
        [
         "2016-05-19",
         7
        ],
        [
         "2016-07-07",
         45
        ],
        [
         "2016-01-22",
         10
        ],
        [
         "2016-02-10",
         5
        ],
        [
         "2016-02-24",
         11
        ],
        [
         "2016-07-01",
         35
        ],
        [
         "2016-07-23",
         34
        ],
        [
         "2016-01-02",
         12
        ],
        [
         "2016-09-06",
         106
        ],
        [
         "2016-01-31",
         8
        ],
        [
         "2016-03-17",
         8
        ],
        [
         "2016-04-05",
         10
        ],
        [
         "2016-08-17",
         124
        ],
        [
         "2016-02-05",
         8
        ],
        [
         "2016-06-21",
         15
        ],
        [
         "2016-08-24",
         166
        ],
        [
         "2016-09-21",
         133
        ],
        [
         "2016-10-08",
         180
        ],
        [
         "2016-04-06",
         5
        ],
        [
         "2016-05-24",
         15
        ],
        [
         "2016-03-30",
         10
        ],
        [
         "2016-10-28",
         119
        ],
        [
         "2016-12-08",
         162
        ],
        [
         "2016-06-03",
         8
        ],
        [
         "2016-06-30",
         10
        ],
        [
         "2016-07-06",
         24
        ],
        [
         "2016-07-20",
         72
        ],
        [
         "2016-03-13",
         6
        ],
        [
         "2016-03-05",
         17
        ],
        [
         "2016-03-07",
         9
        ],
        [
         "2016-06-28",
         13
        ],
        [
         "2016-12-24",
         170
        ],
        [
         "2016-01-23",
         14
        ],
        [
         "2016-10-05",
         148
        ],
        [
         "2016-02-06",
         14
        ],
        [
         "2016-03-12",
         19
        ],
        [
         "2016-01-04",
         8
        ],
        [
         "2016-05-20",
         9
        ],
        [
         "2016-06-12",
         11
        ],
        [
         "2016-07-05",
         39
        ],
        [
         "2016-10-31",
         118
        ],
        [
         "2016-11-13",
         136
        ],
        [
         "2016-12-28",
         161
        ],
        [
         "2016-02-14",
         10
        ],
        [
         "2016-05-29",
         8
        ],
        [
         "2016-11-12",
         132
        ],
        [
         "2016-06-11",
         10
        ],
        [
         "2016-09-28",
         121
        ],
        [
         "2016-05-25",
         7
        ],
        [
         "2016-01-15",
         10
        ],
        [
         "2016-01-25",
         4
        ],
        [
         "2016-12-01",
         167
        ],
        [
         "2016-02-20",
         10
        ],
        [
         "2016-06-25",
         9
        ],
        [
         "2016-10-04",
         112
        ],
        [
         "2016-02-01",
         10
        ],
        [
         "2016-11-20",
         87
        ],
        [
         "2016-01-16",
         11
        ],
        [
         "2016-07-22",
         45
        ],
        [
         "2016-11-11",
         85
        ],
        [
         "2016-04-21",
         5
        ],
        [
         "2016-08-25",
         152
        ],
        [
         "2016-01-10",
         10
        ],
        [
         "2016-03-09",
         5
        ],
        [
         "2016-01-18",
         7
        ],
        [
         "2016-05-22",
         12
        ],
        [
         "2016-07-28",
         39
        ],
        [
         "2016-09-20",
         136
        ],
        [
         "2016-09-29",
         81
        ],
        [
         "2016-02-16",
         4
        ],
        [
         "2016-02-27",
         3
        ],
        [
         "2016-01-07",
         9
        ],
        [
         "2016-10-18",
         140
        ],
        [
         "2016-10-25",
         124
        ],
        [
         "2016-01-09",
         9
        ],
        [
         "2016-04-10",
         6
        ],
        [
         "2016-09-07",
         137
        ],
        [
         "2016-10-01",
         127
        ],
        [
         "2016-12-23",
         159
        ],
        [
         "2016-05-18",
         2
        ],
        [
         "2016-06-01",
         15
        ],
        [
         "2016-06-04",
         8
        ],
        [
         "2016-06-20",
         10
        ],
        [
         "2016-09-04",
         136
        ],
        [
         "2016-10-15",
         158
        ],
        [
         "2016-12-26",
         175
        ],
        [
         "2016-04-27",
         10
        ],
        [
         "2016-07-25",
         39
        ],
        [
         "2016-11-03",
         172
        ],
        [
         "2016-05-06",
         15
        ],
        [
         "2016-06-07",
         11
        ],
        [
         "2016-08-28",
         122
        ],
        [
         "2016-09-11",
         87
        ],
        [
         "2016-03-18",
         15
        ],
        [
         "2016-12-07",
         237
        ],
        [
         "2016-07-09",
         58
        ],
        [
         "2016-11-09",
         125
        ],
        [
         "2016-03-29",
         10
        ],
        [
         "2016-03-23",
         6
        ],
        [
         "2016-06-06",
         11
        ],
        [
         "2016-07-15",
         59
        ],
        [
         "2016-11-22",
         170
        ],
        [
         "2016-10-02",
         157
        ],
        [
         "2016-11-16",
         117
        ],
        [
         "2015-03-09",
         6
        ],
        [
         "2015-05-19",
         6
        ],
        [
         "2015-03-06",
         9
        ],
        [
         "2015-04-09",
         5
        ],
        [
         "2015-09-02",
         7
        ],
        [
         "2015-12-22",
         12
        ],
        [
         "2015-05-10",
         3
        ],
        [
         "2015-09-28",
         2
        ],
        [
         "2015-03-12",
         5
        ],
        [
         "2015-03-16",
         5
        ],
        [
         "2015-04-01",
         5
        ],
        [
         "2015-04-24",
         3
        ],
        [
         "2015-03-11",
         6
        ],
        [
         "2015-06-15",
         6
        ],
        [
         "2015-10-16",
         9
        ],
        [
         "2015-11-02",
         4
        ],
        [
         "2015-11-27",
         14
        ],
        [
         "2015-12-31",
         7
        ],
        [
         "2015-08-01",
         9
        ],
        [
         "2015-04-19",
         4
        ],
        [
         "2015-10-30",
         12
        ],
        [
         "2015-12-29",
         14
        ],
        [
         "2015-06-19",
         13
        ],
        [
         "2015-10-13",
         13
        ],
        [
         "2015-04-07",
         9
        ],
        [
         "2015-08-24",
         10
        ],
        [
         "2015-09-29",
         7
        ],
        [
         "2015-01-20",
         6
        ],
        [
         "2015-09-06",
         4
        ],
        [
         "2015-09-21",
         5
        ],
        [
         "2015-12-05",
         13
        ],
        [
         "2015-04-28",
         7
        ],
        [
         "2015-06-22",
         5
        ],
        [
         "2015-11-21",
         7
        ],
        [
         "2015-05-16",
         11
        ],
        [
         "2015-12-30",
         7
        ],
        [
         "2015-09-20",
         7
        ],
        [
         "2015-02-25",
         5
        ],
        [
         "2015-03-21",
         4
        ],
        [
         "2015-09-15",
         4
        ],
        [
         "2015-11-30",
         9
        ],
        [
         "2015-02-03",
         7
        ],
        [
         "2015-02-09",
         2
        ],
        [
         "2015-02-17",
         4
        ],
        [
         "2015-09-04",
         6
        ],
        [
         "2015-05-25",
         9
        ],
        [
         "2015-09-17",
         5
        ],
        [
         "2015-02-04",
         7
        ],
        [
         "2015-06-23",
         15
        ],
        [
         "2015-02-07",
         6
        ],
        [
         "2015-05-06",
         8
        ],
        [
         "2015-02-01",
         5
        ],
        [
         "2015-12-06",
         5
        ],
        [
         "2015-07-21",
         10
        ],
        [
         "2015-08-10",
         4
        ],
        [
         "2015-09-10",
         9
        ],
        [
         "2015-10-24",
         9
        ],
        [
         "2015-02-10",
         9
        ],
        [
         "2015-03-22",
         6
        ],
        [
         "2015-04-18",
         7
        ],
        [
         "2015-01-24",
         8
        ],
        [
         "2015-04-08",
         3
        ],
        [
         "2015-05-03",
         4
        ],
        [
         "2015-09-07",
         2
        ],
        [
         "2015-09-09",
         9
        ],
        [
         "2015-11-15",
         2
        ],
        [
         "2015-05-18",
         8
        ],
        [
         "2015-06-05",
         6
        ],
        [
         "2015-06-09",
         5
        ],
        [
         "2015-12-17",
         11
        ],
        [
         "2015-06-24",
         7
        ],
        [
         "2015-07-06",
         10
        ],
        [
         "2015-01-23",
         3
        ],
        [
         "2015-08-21",
         10
        ],
        [
         "2015-07-27",
         10
        ],
        [
         "2015-05-23",
         7
        ],
        [
         "2015-07-24",
         5
        ],
        [
         "2015-08-02",
         8
        ],
        [
         "2015-12-11",
         13
        ],
        [
         "2015-04-22",
         4
        ],
        [
         "2015-06-27",
         9
        ],
        [
         "2015-11-17",
         6
        ],
        [
         "2015-06-11",
         5
        ],
        [
         "2015-11-06",
         8
        ],
        [
         "2015-03-19",
         4
        ],
        [
         "2015-08-17",
         10
        ],
        [
         "2015-03-13",
         10
        ],
        [
         "2015-05-21",
         6
        ],
        [
         "2015-06-01",
         4
        ],
        [
         "2015-11-08",
         7
        ],
        [
         "2015-04-11",
         6
        ],
        [
         "2015-11-28",
         6
        ],
        [
         "2015-01-11",
         9
        ],
        [
         "2015-09-16",
         5
        ],
        [
         "2015-10-08",
         7
        ],
        [
         "2015-10-28",
         6
        ],
        [
         "2015-04-15",
         13
        ],
        [
         "2015-08-08",
         8
        ],
        [
         "2015-04-27",
         9
        ],
        [
         "2015-04-16",
         7
        ],
        [
         "2015-10-11",
         7
        ],
        [
         "2015-08-19",
         11
        ],
        [
         "2015-10-25",
         7
        ],
        [
         "2015-11-07",
         5
        ],
        [
         "2015-09-19",
         9
        ],
        [
         "2015-11-25",
         8
        ],
        [
         "2015-06-26",
         7
        ],
        [
         "2015-07-12",
         7
        ],
        [
         "2015-07-11",
         12
        ],
        [
         "2015-10-12",
         11
        ],
        [
         "2015-01-10",
         4
        ],
        [
         "2015-01-22",
         9
        ],
        [
         "2015-10-18",
         7
        ],
        [
         "2015-11-22",
         4
        ],
        [
         "2015-12-01",
         11
        ],
        [
         "2015-03-15",
         10
        ],
        [
         "2015-07-29",
         6
        ],
        [
         "2015-12-08",
         11
        ],
        [
         "2015-04-14",
         3
        ],
        [
         "2015-01-29",
         4
        ],
        [
         "2015-03-18",
         8
        ],
        [
         "2015-04-29",
         11
        ],
        [
         "2015-01-08",
         8
        ],
        [
         "2015-01-26",
         4
        ],
        [
         "2015-06-06",
         7
        ],
        [
         "2015-03-01",
         6
        ],
        [
         "2015-08-06",
         12
        ],
        [
         "2015-12-12",
         17
        ],
        [
         "2015-08-31",
         12
        ],
        [
         "2015-07-10",
         7
        ],
        [
         "2015-01-17",
         8
        ],
        [
         "2015-07-18",
         7
        ],
        [
         "2015-12-02",
         9
        ],
        [
         "2015-04-20",
         11
        ],
        [
         "2015-10-20",
         9
        ],
        [
         "2015-12-26",
         8
        ],
        [
         "2015-12-27",
         9
        ],
        [
         "2015-05-09",
         6
        ],
        [
         "2015-01-15",
         7
        ],
        [
         "2015-07-15",
         4
        ],
        [
         "2015-12-15",
         5
        ],
        [
         "2015-01-25",
         4
        ],
        [
         "2015-05-29",
         1
        ],
        [
         "2015-11-04",
         1
        ],
        [
         "2015-11-26",
         6
        ],
        [
         "2015-12-04",
         3
        ],
        [
         "2015-12-23",
         12
        ],
        [
         "2015-02-11",
         12
        ],
        [
         "2015-12-07",
         17
        ],
        [
         "2015-01-14",
         9
        ],
        [
         "2015-12-10",
         9
        ],
        [
         "2015-05-11",
         4
        ],
        [
         "2015-02-28",
         5
        ],
        [
         "2015-03-05",
         3
        ],
        [
         "2015-03-28",
         8
        ],
        [
         "2015-10-07",
         6
        ],
        [
         "2015-07-30",
         10
        ],
        [
         "2015-04-23",
         10
        ],
        [
         "2015-07-13",
         12
        ],
        [
         "2015-08-30",
         8
        ],
        [
         "2015-05-05",
         3
        ],
        [
         "2015-09-22",
         5
        ],
        [
         "2015-10-14",
         6
        ],
        [
         "2015-02-20",
         5
        ],
        [
         "2015-06-20",
         7
        ],
        [
         "2015-07-01",
         8
        ],
        [
         "2015-10-03",
         7
        ],
        [
         "2015-12-24",
         12
        ],
        [
         "2015-01-30",
         10
        ],
        [
         "2015-02-14",
         8
        ],
        [
         "2015-04-02",
         3
        ],
        [
         "2015-06-25",
         4
        ],
        [
         "2015-04-25",
         8
        ],
        [
         "2015-07-08",
         6
        ],
        [
         "2015-12-25",
         8
        ],
        [
         "2015-05-14",
         6
        ],
        [
         "2015-08-14",
         10
        ],
        [
         "2015-01-03",
         8
        ],
        [
         "2015-01-06",
         6
        ],
        [
         "2015-10-27",
         3
        ],
        [
         "2015-12-19",
         14
        ],
        [
         "2015-03-24",
         12
        ],
        [
         "2015-04-13",
         4
        ],
        [
         "2015-02-24",
         9
        ],
        [
         "2015-05-22",
         5
        ],
        [
         "2015-07-17",
         11
        ],
        [
         "2015-07-31",
         9
        ],
        [
         "2015-09-03",
         8
        ],
        [
         "2015-08-16",
         5
        ],
        [
         "2015-09-12",
         7
        ],
        [
         "2015-11-11",
         11
        ],
        [
         "2015-04-06",
         5
        ],
        [
         "2015-05-13",
         13
        ],
        [
         "2015-09-05",
         3
        ],
        [
         "2015-10-26",
         9
        ],
        [
         "2015-06-17",
         6
        ],
        [
         "2015-08-03",
         5
        ],
        [
         "2015-08-20",
         12
        ],
        [
         "2015-09-23",
         7
        ],
        [
         "2015-03-02",
         7
        ],
        [
         "2015-08-27",
         11
        ],
        [
         "2015-09-14",
         9
        ],
        [
         "2015-12-20",
         14
        ],
        [
         "2015-08-22",
         10
        ],
        [
         "2015-10-17",
         6
        ],
        [
         "2015-04-03",
         9
        ],
        [
         "2015-09-26",
         10
        ],
        [
         "2015-10-21",
         9
        ],
        [
         "2015-11-19",
         4
        ],
        [
         "2015-10-01",
         8
        ],
        [
         "2015-10-02",
         8
        ],
        [
         "2015-05-12",
         8
        ],
        [
         "2015-07-23",
         7
        ],
        [
         "2015-05-02",
         5
        ],
        [
         "2015-07-20",
         9
        ],
        [
         "2015-12-14",
         16
        ],
        [
         "2015-03-04",
         8
        ],
        [
         "2015-03-23",
         5
        ],
        [
         "2015-04-17",
         9
        ],
        [
         "2015-08-09",
         8
        ],
        [
         "2015-10-19",
         10
        ],
        [
         "2015-12-09",
         7
        ],
        [
         "2015-02-23",
         5
        ],
        [
         "2015-03-14",
         4
        ],
        [
         "2015-11-03",
         6
        ],
        [
         "2015-06-04",
         6
        ],
        [
         "2015-02-27",
         3
        ],
        [
         "2015-07-28",
         5
        ],
        [
         "2015-06-28",
         5
        ],
        [
         "2015-02-13",
         6
        ],
        [
         "2015-03-17",
         9
        ],
        [
         "2015-04-12",
         11
        ],
        [
         "2015-10-09",
         3
        ],
        [
         "2015-06-03",
         3
        ],
        [
         "2015-02-26",
         11
        ],
        [
         "2015-06-07",
         8
        ],
        [
         "2015-07-22",
         7
        ],
        [
         "2015-09-24",
         9
        ],
        [
         "2015-11-20",
         9
        ],
        [
         "2015-03-26",
         9
        ],
        [
         "2015-10-22",
         7
        ],
        [
         "2015-05-24",
         8
        ],
        [
         "2015-01-05",
         3
        ],
        [
         "2015-06-21",
         9
        ],
        [
         "2015-07-04",
         9
        ],
        [
         "2015-07-26",
         5
        ],
        [
         "2015-12-16",
         11
        ],
        [
         "2015-05-28",
         5
        ],
        [
         "2015-08-26",
         13
        ],
        [
         "2015-02-19",
         5
        ],
        [
         "2015-08-12",
         9
        ],
        [
         "2015-02-02",
         6
        ],
        [
         "2015-01-04",
         5
        ],
        [
         "2015-09-13",
         11
        ],
        [
         "2015-11-10",
         7
        ],
        [
         "2015-04-26",
         4
        ],
        [
         "2015-02-06",
         10
        ],
        [
         "2015-09-30",
         9
        ],
        [
         "2015-04-30",
         13
        ],
        [
         "2015-10-29",
         6
        ],
        [
         "2015-01-16",
         7
        ],
        [
         "2015-03-20",
         9
        ],
        [
         "2015-05-31",
         3
        ],
        [
         "2015-07-09",
         5
        ],
        [
         "2015-08-13",
         12
        ],
        [
         "2015-02-15",
         6
        ],
        [
         "2015-09-01",
         2
        ],
        [
         "2015-09-27",
         3
        ],
        [
         "2015-10-04",
         6
        ],
        [
         "2015-10-31",
         5
        ],
        [
         "2015-01-19",
         6
        ],
        [
         "2015-11-13",
         4
        ],
        [
         "2015-03-08",
         4
        ],
        [
         "2015-09-08",
         9
        ],
        [
         "2015-04-21",
         5
        ],
        [
         "2015-06-30",
         6
        ],
        [
         "2015-07-02",
         3
        ],
        [
         "2015-08-07",
         11
        ],
        [
         "2015-02-05",
         6
        ],
        [
         "2015-02-16",
         3
        ],
        [
         "2015-05-01",
         12
        ],
        [
         "2015-07-16",
         6
        ],
        [
         "2015-01-02",
         4
        ],
        [
         "2015-01-21",
         7
        ],
        [
         "2015-04-10",
         5
        ],
        [
         "2015-10-23",
         7
        ],
        [
         "2015-02-18",
         2
        ],
        [
         "2015-06-13",
         4
        ],
        [
         "2015-12-13",
         12
        ],
        [
         "2015-01-13",
         3
        ],
        [
         "2015-01-12",
         7
        ],
        [
         "2015-11-29",
         6
        ],
        [
         "2015-03-07",
         9
        ],
        [
         "2015-07-19",
         7
        ],
        [
         "2015-11-18",
         7
        ],
        [
         "2015-05-26",
         5
        ],
        [
         "2015-08-11",
         5
        ],
        [
         "2015-12-21",
         3
        ],
        [
         "2015-12-03",
         16
        ],
        [
         "2015-06-12",
         12
        ],
        [
         "2015-03-10",
         2
        ],
        [
         "2015-07-25",
         9
        ],
        [
         "2015-05-15",
         7
        ],
        [
         "2015-10-05",
         3
        ],
        [
         "2015-03-27",
         3
        ],
        [
         "2015-05-04",
         11
        ],
        [
         "2015-11-24",
         10
        ],
        [
         "2015-07-14",
         9
        ],
        [
         "2015-10-10",
         4
        ],
        [
         "2015-02-12",
         3
        ],
        [
         "2015-07-03",
         13
        ],
        [
         "2015-09-11",
         8
        ],
        [
         "2015-12-28",
         10
        ],
        [
         "2015-02-22",
         10
        ],
        [
         "2015-05-20",
         6
        ],
        [
         "2015-08-04",
         8
        ],
        [
         "2015-01-28",
         5
        ],
        [
         "2015-03-31",
         4
        ],
        [
         "2015-05-27",
         5
        ],
        [
         "2015-08-05",
         7
        ],
        [
         "2015-08-25",
         11
        ],
        [
         "2015-06-14",
         4
        ],
        [
         "2015-01-01",
         4
        ],
        [
         "2015-02-21",
         1
        ],
        [
         "2015-03-25",
         5
        ],
        [
         "2015-01-18",
         6
        ],
        [
         "2015-03-30",
         4
        ],
        [
         "2015-07-05",
         10
        ],
        [
         "2015-11-09",
         4
        ],
        [
         "2015-03-29",
         6
        ],
        [
         "2015-08-18",
         8
        ],
        [
         "2015-01-09",
         4
        ],
        [
         "2015-08-28",
         8
        ],
        [
         "2015-01-27",
         5
        ],
        [
         "2015-02-08",
         4
        ],
        [
         "2015-05-08",
         10
        ],
        [
         "2015-06-08",
         8
        ],
        [
         "2015-12-18",
         10
        ],
        [
         "2015-04-05",
         4
        ],
        [
         "2015-06-16",
         2
        ],
        [
         "2015-08-29",
         6
        ],
        [
         "2015-08-23",
         5
        ],
        [
         "2015-06-29",
         8
        ],
        [
         "2015-11-01",
         6
        ],
        [
         "2015-04-04",
         7
        ],
        [
         "2015-06-02",
         12
        ],
        [
         "2015-09-18",
         9
        ],
        [
         "2015-10-15",
         6
        ],
        [
         "2015-01-07",
         4
        ],
        [
         "2015-03-03",
         8
        ],
        [
         "2015-05-30",
         7
        ],
        [
         "2015-09-25",
         6
        ],
        [
         "2015-11-23",
         5
        ],
        [
         "2015-05-07",
         5
        ],
        [
         "2015-11-12",
         6
        ],
        [
         "2015-11-14",
         5
        ],
        [
         "2015-11-16",
         8
        ],
        [
         "2015-06-18",
         11
        ],
        [
         "2015-07-07",
         9
        ],
        [
         "2015-01-31",
         7
        ],
        [
         "2015-08-15",
         12
        ],
        [
         "2015-10-06",
         7
        ],
        [
         "2015-11-05",
         6
        ],
        [
         "2015-05-17",
         9
        ],
        [
         "2015-06-10",
         8
        ]
       ],
       "datasetInfos": [],
       "dbfsResultPath": null,
       "isJsonSchema": true,
       "metadata": {},
       "overflow": false,
       "plotOptions": {
        "customPlotOptions": {},
        "displayType": "table",
        "pivotAggregation": null,
        "pivotColumns": null,
        "xColumns": null,
        "yColumns": null
       },
       "removedWidgets": [],
       "schema": [
        {
         "metadata": "{\"__detected_date_formats\":\"M/d/yyyy\"}",
         "name": "OrderDate",
         "type": "\"date\""
        },
        {
         "metadata": "{}",
         "name": "total_order",
         "type": "\"long\""
        }
       ],
       "type": "table"
      }
     },
     "output_type": "display_data"
    },
    {
     "output_type": "display_data",
     "data": {
      "text/plain": [
       "Databricks visualization. Run in Databricks to view."
      ]
     },
     "metadata": {
      "application/vnd.databricks.v1.subcommand+json": {
       "baseErrorDetails": null,
       "bindings": {},
       "collapsed": false,
       "command": "%python\n__backend_agg_display_orig = display\n__backend_agg_dfs = []\ndef __backend_agg_display_new(df):\n    __backend_agg_df_modules = [\"pandas.core.frame\", \"databricks.koalas.frame\", \"pyspark.sql.dataframe\", \"pyspark.pandas.frame\", \"pyspark.sql.connect.dataframe\"]\n    if (type(df).__module__ in __backend_agg_df_modules and type(df).__name__ == 'DataFrame') or isinstance(df, list):\n        __backend_agg_dfs.append(df)\n\ndisplay = __backend_agg_display_new\n\ndef __backend_agg_user_code_fn():\n    import base64\n    exec(base64.standard_b64decode(\"ZGZfU2FsZXMuZGlzcGxheSgp\").decode())\n\ntry:\n    # run user code\n    __backend_agg_user_code_fn()\n\n    #reset display function\n    display = __backend_agg_display_orig\n\n    if len(__backend_agg_dfs) > 0:\n        # create a temp view\n        if type(__backend_agg_dfs[0]).__module__ == \"databricks.koalas.frame\":\n            # koalas dataframe\n            __backend_agg_dfs[0].to_spark().createOrReplaceTempView(\"DatabricksView3b0449a\")\n        elif type(__backend_agg_dfs[0]).__module__ == \"pandas.core.frame\" or isinstance(__backend_agg_dfs[0], list):\n            # pandas dataframe\n            spark.createDataFrame(__backend_agg_dfs[0]).createOrReplaceTempView(\"DatabricksView3b0449a\")\n        else:\n            __backend_agg_dfs[0].createOrReplaceTempView(\"DatabricksView3b0449a\")\n        #run backend agg\n        display(spark.sql(\"\"\"WITH q AS (select * from DatabricksView3b0449a) SELECT `OrderDate`,SUM(`total_order`) `column_c835c9ba88` FROM q GROUP BY `OrderDate`\"\"\"))\n    else:\n        displayHTML(\"dataframe no longer exists. If you're using dataframe.display(), use display(dataframe) instead.\")\n\n\nfinally:\n    spark.sql(\"drop view if exists DatabricksView3b0449a\")\n    display = __backend_agg_display_orig\n    del __backend_agg_display_new\n    del __backend_agg_display_orig\n    del __backend_agg_dfs\n    del __backend_agg_user_code_fn\n\n",
       "commandTitle": "Visualization 1",
       "commandType": "auto",
       "commandVersion": 0,
       "commentThread": [],
       "commentsVisible": false,
       "contentSha256Hex": null,
       "customPlotOptions": {
        "redashChart": [
         {
          "key": "type",
          "value": "CHART"
         },
         {
          "key": "options",
          "value": {
           "alignYAxesAtZero": true,
           "coefficient": 1,
           "columnConfigurationMap": {
            "x": {
             "column": "OrderDate",
             "id": "column_c835c9ba87"
            },
            "y": [
             {
              "column": "total_order",
              "id": "column_c835c9ba88",
              "transform": "SUM"
             }
            ]
           },
           "dateTimeFormat": "DD/MM/YYYY HH:mm",
           "direction": {
            "type": "counterclockwise"
           },
           "error_y": {
            "type": "data",
            "visible": true
           },
           "globalSeriesType": "line",
           "legend": {
            "traceorder": "normal"
           },
           "missingValuesAsZero": true,
           "numberFormat": "0,0.[00000]",
           "percentFormat": "0[.]00%",
           "series": {
            "error_y": {
             "type": "data",
             "visible": true
            },
            "stacking": null
           },
           "seriesOptions": {
            "column_c835c9ba88": {
             "name": "total_order",
             "yAxis": 0
            }
           },
           "showDataLabels": false,
           "sizemode": "diameter",
           "sortX": true,
           "sortY": true,
           "swappedAxes": false,
           "textFormat": "",
           "useAggregationsUi": true,
           "valuesOptions": {},
           "version": 2,
           "xAxis": {
            "labels": {
             "enabled": true
            },
            "type": "-"
           },
           "yAxis": [
            {
             "type": "-"
            },
            {
             "opposite": true,
             "type": "-"
            }
           ]
          }
         }
        ]
       },
       "datasetPreviewNameToCmdIdMap": {},
       "diffDeletes": [],
       "diffInserts": [],
       "displayType": "redashChart",
       "error": null,
       "errorDetails": null,
       "errorSummary": null,
       "errorTraceType": null,
       "finishTime": 0,
       "globalVars": {},
       "guid": "",
       "height": "auto",
       "hideCommandCode": false,
       "hideCommandResult": false,
       "iPythonMetadata": null,
       "inputWidgets": {},
       "isLockedInExamMode": false,
       "latestUser": "a user",
       "latestUserId": null,
       "listResultMetadata": null,
       "metadata": {},
       "nuid": "3bd63e66-9323-4511-a500-d7428f5ed92a",
       "origId": 0,
       "parentHierarchy": [],
       "pivotAggregation": null,
       "pivotColumns": null,
       "position": 51.0,
       "resultDbfsErrorMessage": null,
       "resultDbfsStatus": "INLINED_IN_TREE",
       "results": null,
       "showCommandTitle": false,
       "startTime": 0,
       "state": "input",
       "streamStates": {},
       "subcommandOptions": {
        "queryPlan": {
         "groups": [
          {
           "column": "OrderDate",
           "type": "column"
          }
         ],
         "selects": [
          {
           "column": "OrderDate",
           "type": "column"
          },
          {
           "alias": "column_c835c9ba88",
           "args": [
            {
             "column": "total_order",
             "type": "column"
            }
           ],
           "function": "SUM",
           "type": "function"
          }
         ]
        }
       },
       "submitTime": 0,
       "subtype": "tableResultSubCmd.visualization",
       "tableResultIndex": 0,
       "tableResultSettingsMap": {},
       "useConsistentColors": false,
       "version": "CommandV1",
       "width": "auto",
       "workflows": [],
       "xColumns": null,
       "yColumns": null
      }
     },
     "output_type": "display_data"
    }
   ],
   "source": [
    "df_Sales.display()"
   ]
  },
  {
   "cell_type": "code",
   "execution_count": 0,
   "metadata": {
    "application/vnd.databricks.v1+cell": {
     "cellMetadata": {
      "byteLimit": 2048000,
      "rowLimit": 10000
     },
     "inputWidgets": {},
     "nuid": "b87fb0f6-66c2-4d6f-8ebf-02b850be7c88",
     "showTitle": false,
     "tableResultSettingsMap": {},
     "title": ""
    }
   },
   "outputs": [],
   "source": [
    "df_Sales.write.format('Parquet')\\\n",
    "              .mode('append')\\\n",
    "              .option('path',\"abfss://silver@awstoragedatalake123456.dfs.core.windows.net/AdventureWorks_Sales\")\\\n",
    "              .save()"
   ]
  },
  {
   "cell_type": "markdown",
   "metadata": {
    "application/vnd.databricks.v1+cell": {
     "cellMetadata": {},
     "inputWidgets": {},
     "nuid": "5b862f4a-6d18-4a52-a1ed-ad4da53a0d09",
     "showTitle": false,
     "tableResultSettingsMap": {},
     "title": ""
    }
   },
   "source": [
    "##### Subcategories data file "
   ]
  },
  {
   "cell_type": "code",
   "execution_count": 0,
   "metadata": {
    "application/vnd.databricks.v1+cell": {
     "cellMetadata": {
      "byteLimit": 2048000,
      "rowLimit": 10000
     },
     "inputWidgets": {},
     "nuid": "2eb3fef8-37c1-4e41-89ce-d44a7d70dc7a",
     "showTitle": false,
     "tableResultSettingsMap": {},
     "title": ""
    }
   },
   "outputs": [],
   "source": [
    "df_subcat.write.format('Parquet')\\\n",
    "              .mode('append')\\\n",
    "              .option('path',\"abfss://silver@awstoragedatalake123456.dfs.core.windows.net/AdventureWorks_Subcategories\")\\\n",
    "              .save()"
   ]
  }
 ],
 "metadata": {
  "application/vnd.databricks.v1+notebook": {
   "computePreferences": null,
   "dashboards": [],
   "environmentMetadata": {
    "base_environment": "",
    "client": "1"
   },
   "language": "python",
   "notebookMetadata": {
    "pythonIndentUnit": 4
   },
   "notebookName": "silver_notebook",
   "widgets": {}
  },
  "language_info": {
   "name": "python"
  }
 },
 "nbformat": 4,
 "nbformat_minor": 0
}